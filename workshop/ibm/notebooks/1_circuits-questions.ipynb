{
 "cells": [
  {
   "cell_type": "markdown",
   "metadata": {},
   "source": [
    "# Qiskit exercises"
   ]
  },
  {
   "cell_type": "markdown",
   "metadata": {},
   "source": [
    "The following questions are material for the Qiskit hands-on session given on Nov. 4th 2022 at the International Conference on Quantum Technologies for High-Energy Physics at CERN. In total there are 25 questions. A lot of them have been recycled from previous Qiskit Advocate tests.\n",
    "\n",
    "The primary reference materials for these exercises are [Qiskit Tutorials](https://qiskit.org/documentation/tutorials/circuits/index.html) and [Qiskit Documentation](https://qiskit.org/documentation/). In addtion, [Qiskit Textbook](https://qiskit.org/textbook/preface.html), [Coding with Qiskit](https://www.youtube.com/playlist?list=PLOFEBzvs-Vvp2xg9-POLJhQwtVktlYGbY), [Qiskit Live Circuit Sessions](https://www.youtube.com/playlist?list=PLOFEBzvs-VvrRlVz7wqaqmaMZj_ZK2Afe) and [1 Minute Qiskit](https://www.youtube.com/playlist?list=PLOFEBzvs-VvpOCmJ9BonUhf7NYB4d1p0e) are also good sources of reference.\n",
    "At the beginning of each section you can find more specific reference materials.\n",
    "\n",
    "Let us first check if you are up-to-date with the Qiskit version. These exercises were created with qiskit version 0.37.2."
   ]
  },
  {
   "cell_type": "code",
   "execution_count": 1,
   "metadata": {},
   "outputs": [
    {
     "ename": "ModuleNotFoundError",
     "evalue": "No module named 'ipywidgets'",
     "output_type": "error",
     "traceback": [
      "\u001b[0;31m---------------------------------------------------------------------------\u001b[0m",
      "\u001b[0;31mModuleNotFoundError\u001b[0m                       Traceback (most recent call last)",
      "Cell \u001b[0;32mIn [1], line 1\u001b[0m\n\u001b[0;32m----> 1\u001b[0m \u001b[39mimport\u001b[39;00m \u001b[39mqiskit\u001b[39;00m\u001b[39m.\u001b[39;00m\u001b[39mtools\u001b[39;00m\u001b[39m.\u001b[39;00m\u001b[39mjupyter\u001b[39;00m\n\u001b[1;32m      2\u001b[0m \u001b[39mprint\u001b[39m(\u001b[39m\"\u001b[39m\u001b[39mYou are now running Qiskit with the following version numbers\u001b[39m\u001b[39m\"\u001b[39m)\n\u001b[1;32m      3\u001b[0m get_ipython()\u001b[39m.\u001b[39mrun_line_magic(\u001b[39m'\u001b[39m\u001b[39mqiskit_version_table\u001b[39m\u001b[39m'\u001b[39m, \u001b[39m'\u001b[39m\u001b[39m'\u001b[39m)\n",
      "File \u001b[0;32m~/code/cern/QT4HEP22/venv/lib/python3.9/site-packages/qiskit/tools/jupyter/__init__.py:105\u001b[0m\n\u001b[1;32m    103\u001b[0m \u001b[39mfrom\u001b[39;00m \u001b[39mqiskit\u001b[39;00m\u001b[39m.\u001b[39;00m\u001b[39mproviders\u001b[39;00m\u001b[39m.\u001b[39;00m\u001b[39mfake_provider\u001b[39;00m \u001b[39mimport\u001b[39;00m FakeBackend\n\u001b[1;32m    104\u001b[0m \u001b[39mfrom\u001b[39;00m \u001b[39mqiskit\u001b[39;00m\u001b[39m.\u001b[39;00m\u001b[39mutils\u001b[39;00m \u001b[39mimport\u001b[39;00m optionals \u001b[39mas\u001b[39;00m _optionals\n\u001b[0;32m--> 105\u001b[0m \u001b[39mfrom\u001b[39;00m \u001b[39m.\u001b[39;00m\u001b[39mjupyter_magics\u001b[39;00m \u001b[39mimport\u001b[39;00m ProgressBarMagic, StatusMagic\n\u001b[1;32m    106\u001b[0m \u001b[39mfrom\u001b[39;00m \u001b[39m.\u001b[39;00m\u001b[39mprogressbar\u001b[39;00m \u001b[39mimport\u001b[39;00m HTMLProgressBar\n\u001b[1;32m    107\u001b[0m \u001b[39mfrom\u001b[39;00m \u001b[39m.\u001b[39;00m\u001b[39mversion_table\u001b[39;00m \u001b[39mimport\u001b[39;00m VersionTable\n",
      "File \u001b[0;32m~/code/cern/QT4HEP22/venv/lib/python3.9/site-packages/qiskit/tools/jupyter/jupyter_magics.py:26\u001b[0m\n\u001b[1;32m     24\u001b[0m \u001b[39mfrom\u001b[39;00m \u001b[39mqiskit\u001b[39;00m\u001b[39m.\u001b[39;00m\u001b[39mtools\u001b[39;00m\u001b[39m.\u001b[39;00m\u001b[39mevents\u001b[39;00m\u001b[39m.\u001b[39;00m\u001b[39mprogressbar\u001b[39;00m \u001b[39mimport\u001b[39;00m TextProgressBar\n\u001b[1;32m     25\u001b[0m \u001b[39mfrom\u001b[39;00m \u001b[39m.\u001b[39;00m\u001b[39mprogressbar\u001b[39;00m \u001b[39mimport\u001b[39;00m HTMLProgressBar\n\u001b[0;32m---> 26\u001b[0m \u001b[39mfrom\u001b[39;00m \u001b[39m.\u001b[39;00m\u001b[39mlibrary\u001b[39;00m \u001b[39mimport\u001b[39;00m circuit_library_widget\n\u001b[1;32m     29\u001b[0m \u001b[39mdef\u001b[39;00m \u001b[39m_html_checker\u001b[39m(job_var, interval, status, header, _interval_set\u001b[39m=\u001b[39m\u001b[39mFalse\u001b[39;00m):\n\u001b[1;32m     30\u001b[0m     \u001b[39m\"\"\"Internal function that updates the status\u001b[39;00m\n\u001b[1;32m     31\u001b[0m \u001b[39m    of a HTML job monitor.\u001b[39;00m\n\u001b[1;32m     32\u001b[0m \n\u001b[0;32m   (...)\u001b[0m\n\u001b[1;32m     38\u001b[0m \u001b[39m        _interval_set (bool): Was interval set by user?\u001b[39;00m\n\u001b[1;32m     39\u001b[0m \u001b[39m    \"\"\"\u001b[39;00m\n",
      "File \u001b[0;32m~/code/cern/QT4HEP22/venv/lib/python3.9/site-packages/qiskit/tools/jupyter/library.py:17\u001b[0m\n\u001b[1;32m      1\u001b[0m \u001b[39m# This code is part of Qiskit.\u001b[39;00m\n\u001b[1;32m      2\u001b[0m \u001b[39m#\u001b[39;00m\n\u001b[1;32m      3\u001b[0m \u001b[39m# (C) Copyright IBM 2017, 2018.\u001b[39;00m\n\u001b[0;32m   (...)\u001b[0m\n\u001b[1;32m     12\u001b[0m \n\u001b[1;32m     13\u001b[0m \u001b[39m# pylint: disable=invalid-name,no-name-in-module,ungrouped-imports\u001b[39;00m\n\u001b[1;32m     15\u001b[0m \u001b[39m\"\"\"A circuit library widget module\"\"\"\u001b[39;00m\n\u001b[0;32m---> 17\u001b[0m \u001b[39mimport\u001b[39;00m \u001b[39mipywidgets\u001b[39;00m \u001b[39mas\u001b[39;00m \u001b[39mwid\u001b[39;00m\n\u001b[1;32m     18\u001b[0m \u001b[39mfrom\u001b[39;00m \u001b[39mIPython\u001b[39;00m\u001b[39m.\u001b[39;00m\u001b[39mdisplay\u001b[39;00m \u001b[39mimport\u001b[39;00m display\n\u001b[1;32m     19\u001b[0m \u001b[39mfrom\u001b[39;00m \u001b[39mqiskit\u001b[39;00m \u001b[39mimport\u001b[39;00m QuantumCircuit\n",
      "\u001b[0;31mModuleNotFoundError\u001b[0m: No module named 'ipywidgets'"
     ]
    }
   ],
   "source": [
    "import qiskit.tools.jupyter\n",
    "print(\"You are now running Qiskit with the following version numbers\")\n",
    "%qiskit_version_table"
   ]
  },
  {
   "cell_type": "markdown",
   "metadata": {},
   "source": [
    "---\n",
    "# 1. CIRCUITS (5 questions)\n",
    "Reference material: \n",
    "1. [Qiskit Tutorials - Circuits](https://qiskit.org/documentation/tutorials/circuits/index.html)\n",
    "1. [Qiskit Documentation - Terra](https://qiskit.org/documentation/apidoc/terra.html)\n",
    "1. [Coding with Qiskit - Ep.3 Hello World](https://www.youtube.com/watch?v=RrUTwq5jKM4)\n",
    "1. [Coding with Qiskit - Ep.4 Building Blocks of Quantum Circuits](https://www.youtube.com/watch?v=tBnWG_95F9c)\n",
    "\n",
    "Let us start with some useful imports"
   ]
  },
  {
   "cell_type": "code",
   "execution_count": null,
   "metadata": {},
   "outputs": [],
   "source": [
    "%matplotlib inline\n",
    "import numpy as np\n",
    "from qiskit import QuantumCircuit, execute, Aer\n",
    "from qiskit.visualization import plot_bloch_multivector, plot_state_qsphere, plot_histogram, \\\n",
    "                                 plot_state_city, plot_state_hinton, plot_state_paulivec\n",
    "import qiskit.quantum_info as qi"
   ]
  },
  {
   "cell_type": "markdown",
   "metadata": {},
   "source": [
    "---\n",
    "# Space for trying out answers\n",
    "You can add any new cells in this notebook to try to figure out the answers for the questions below. "
   ]
  },
  {
   "cell_type": "code",
   "execution_count": null,
   "metadata": {},
   "outputs": [],
   "source": [
    "# example\n",
    "from qiskit import QuantumCircuit\n",
    "qc = QuantumCircuit(1)\n",
    "qc.h(0)\n",
    "qc.draw('mpl')"
   ]
  },
  {
   "cell_type": "code",
   "execution_count": null,
   "metadata": {},
   "outputs": [],
   "source": [
    "# you can insert new cells like this by clicking the \"+\" button on the menu bar"
   ]
  },
  {
   "cell_type": "code",
   "execution_count": null,
   "metadata": {},
   "outputs": [],
   "source": []
  },
  {
   "cell_type": "code",
   "execution_count": null,
   "metadata": {},
   "outputs": [],
   "source": []
  },
  {
   "cell_type": "code",
   "execution_count": null,
   "metadata": {},
   "outputs": [],
   "source": []
  },
  {
   "cell_type": "code",
   "execution_count": null,
   "metadata": {},
   "outputs": [],
   "source": []
  },
  {
   "cell_type": "markdown",
   "metadata": {},
   "source": [
    "## Question 1.1\n",
    "\n",
    "**What is the output of the following circuit given the initial state $| 0 \\rangle$ ?**\n",
    "\n",
    "<img src=\"..\\questions\\circuits_images\\hx0.png\" align = \"left\" width=\"200\"/>"
   ]
  },
  {
   "cell_type": "markdown",
   "metadata": {},
   "source": [
    "**1)** $| 0 \\rangle$\n",
    "\n",
    "**2)** $\\frac{| 0 \\rangle + | 1 \\rangle}{\\sqrt{2}}$\n",
    "\n",
    "**3)** $\\frac{| 0 \\rangle - | 1 \\rangle}{\\sqrt{2}}$\n",
    "\n",
    "**4)** Both 2 & 3 are possible\n",
    "\n",
    "**5)** None of the above"
   ]
  },
  {
   "cell_type": "markdown",
   "metadata": {},
   "source": [
    "---\n",
    "## Question 1.2\n",
    "\n",
    "**What is the result of the measurements in the following circuit assuming error-free quantum computation?**\n",
    "\n",
    "<img src=\"..\\questions\\circuits_images\\bell.png\" align=\"left\" width=\"400\"/>"
   ]
  },
  {
   "cell_type": "markdown",
   "metadata": {},
   "source": [
    "**1)** 50% 0 and 50% 1\n",
    "\n",
    "**2)** 50% 00 and 50% 11\n",
    "\n",
    "**3)** 100% 1\n",
    "\n",
    "**4)** Both 1 & 2 are possible\n",
    "\n",
    "**5)** None of the above"
   ]
  },
  {
   "cell_type": "markdown",
   "metadata": {},
   "source": [
    "---\n",
    "## Question 1.3\n",
    "\n",
    "**Consider the three-qubit quantum circuit below. What are the real and imaginary components of the state vector?**\n",
    "\n",
    "<img src=\"..\\questions\\circuits_images\\q1.png\" align=\"left\" width=\"300\"/>"
   ]
  },
  {
   "cell_type": "markdown",
   "metadata": {},
   "source": [
    "**1)** <img src=\"..\\questions\\circuits_images\\q1_a1.png\" width = \"800\"/>\n",
    "\n",
    "**2)** <img src=\"..\\questions\\circuits_images\\q1_a2.png\" width = \"800\"/>\n",
    "\n",
    "**3)** <img src=\"..\\questions\\circuits_images\\q1_a3.png\" width = \"800\"/>\n",
    "\n",
    "**4)** <img src=\"..\\questions\\circuits_images\\q1_a4.png\" width = \"800\"/>\n",
    "\n",
    "**5)** None of the above\n"
   ]
  },
  {
   "cell_type": "markdown",
   "metadata": {},
   "source": [
    "---\n",
    "## Question 1.4\n",
    "\n",
    "Which of the following state visualization represent the same quantum state as shown in this qsphere?\n",
    "\n",
    "<img src=\"..\\questions\\circuits_images\\qsphere.png\" align=\"left\" width=\"500\"/>"
   ]
  },
  {
   "cell_type": "markdown",
   "metadata": {},
   "source": [
    "**1)** <img src=\"..\\questions\\circuits_images\\statecity.png\"/>\n",
    "\n",
    "**2)** <img src=\"..\\questions\\circuits_images\\hinton.png\"/>\n",
    "\n",
    "**3)** <img src=\"..\\questions\\circuits_images\\paulivec.png\"/>\n",
    "\n",
    "**4)** <img src=\"..\\questions\\circuits_images\\bloch_sphere.png\"/>\n",
    "\n",
    "**5)** None of the above"
   ]
  },
  {
   "cell_type": "markdown",
   "metadata": {},
   "source": [
    "---\n",
    "## Question 1.5\n",
    "\n",
    "Which one of the following gates is different from the rest?\n",
    "\n",
    "**1)** U1Gate(pi)\n",
    "\n",
    "**2)** U2Gate(0, pi)\n",
    "\n",
    "**3)** U3Gate(pi/2, 0, pi)\n",
    "\n",
    "**4)** HGate()\n",
    "\n",
    "**5)** None of the above"
   ]
  },
  {
   "cell_type": "markdown",
   "metadata": {},
   "source": [
    "Please, submit your answers in the following form:\n",
    "https://airtable.com/shrSn19sYn59iaAfx\n",
    "(so that I get an overview which questions might be more challenging for the audience and can explain those in more detail)"
   ]
  }
 ],
 "metadata": {
  "kernelspec": {
   "display_name": "Python 3.9.6 ('venv': venv)",
   "language": "python",
   "name": "python3"
  },
  "language_info": {
   "codemirror_mode": {
    "name": "ipython",
    "version": 3
   },
   "file_extension": ".py",
   "mimetype": "text/x-python",
   "name": "python",
   "nbconvert_exporter": "python",
   "pygments_lexer": "ipython3",
   "version": "3.9.6"
  },
  "vscode": {
   "interpreter": {
    "hash": "c740406460806eb0c1452f2491ae8d4980d0154eef9d20b847f7be865d24e0c4"
   }
  }
 },
 "nbformat": 4,
 "nbformat_minor": 4
}
