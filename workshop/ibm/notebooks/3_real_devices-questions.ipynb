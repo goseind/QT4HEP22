{
 "cells": [
  {
   "cell_type": "markdown",
   "metadata": {},
   "source": [
    "---\n",
    "# 3. Running on Real Devices (4 questions)\n",
    "Reference material: \n",
    "1. [Qiskit Documentation - IBM Quantum Provider](https://qiskit.org/documentation/apidoc/ibmq_provider.html)\n",
    "1. [1 Minute Qiskit - How can I retrieve an old job from IBM Quantum?](https://www.youtube.com/watch?v=09-Qsge_qqo&list=PLOFEBzvs-VvpOCmJ9BonUhf7NYB4d1p0e&index=6)\n",
    "1. [Building noise models](https://qiskit.org/documentation/tutorials/simulators/3_building_noise_models.html)\n",
    "\n",
    "Let us again start with some useful imports"
   ]
  },
  {
   "cell_type": "code",
   "execution_count": 11,
   "metadata": {},
   "outputs": [
    {
     "name": "stderr",
     "output_type": "stream",
     "text": [
      "configrc.store_credentials:WARNING:2022-11-04 11:41:38,440: Credentials already present. Set overwrite=True to overwrite.\n",
      "ibmqfactory.load_account:WARNING:2022-11-04 11:41:38,735: Credentials are already in use. The existing account in the session will be replaced.\n"
     ]
    }
   ],
   "source": [
    "%matplotlib inline\n",
    "from qiskit import QuantumCircuit, execute, Aer, IBMQ, QuantumRegister\n",
    "from qiskit.tools.monitor import job_monitor\n",
    "from qiskit.providers.ibmq import least_busy\n",
    "from qiskit.visualization import plot_histogram\n",
    "from qiskit.utils.mitigation import complete_meas_cal, CompleteMeasFitter\n",
    "from qiskit.providers.aer import noise\n",
    "from qiskit.providers.aer.noise import NoiseModel\n",
    "\n",
    "IBMQ.save_account('TOKEN')\n",
    "\n",
    "provider = IBMQ.load_account()\n",
    "#provider = IBMQ.get_provider(hub='ibm-q-education', group='eth-zurich-ibm-1', project='cern-workshop')"
   ]
  },
  {
   "cell_type": "markdown",
   "metadata": {},
   "source": [
    "---\n",
    "## Space for trying out answers\n",
    "You can add any new cells in this notebook to try to figure out the answers for the questions below. "
   ]
  },
  {
   "cell_type": "code",
   "execution_count": null,
   "metadata": {},
   "outputs": [],
   "source": [
    "# you can insert new cells like this by clicking the \"+\" button on the menu bar"
   ]
  },
  {
   "cell_type": "code",
   "execution_count": null,
   "metadata": {},
   "outputs": [],
   "source": []
  },
  {
   "cell_type": "code",
   "execution_count": null,
   "metadata": {},
   "outputs": [],
   "source": []
  },
  {
   "cell_type": "code",
   "execution_count": null,
   "metadata": {},
   "outputs": [],
   "source": []
  },
  {
   "cell_type": "code",
   "execution_count": null,
   "metadata": {},
   "outputs": [],
   "source": []
  },
  {
   "cell_type": "markdown",
   "metadata": {},
   "source": [
    "## Question 3.1\n",
    "\n",
    "**How do you find the least busy device to run the following circuit from the previous section?**\n",
    "\n",
    "<img src=\"..\\questions\\real_devices_images\\circuit.png\" align=\"left\" width=\"300\"/>"
   ]
  },
  {
   "cell_type": "markdown",
   "metadata": {},
   "source": [
    "**1)** `least_busy(provider.backends())`\n",
    "\n",
    "**2)** `least_busy(provider.backends(filters=lambda x: x.configuration().n_qubits >= 7))`\n",
    "\n",
    "**3)**  `provider.backends(filters=lambda x: x.configuration().n_qubits >= 7\n",
    "  and not x.configuration().simulator\n",
    "  and x.status().operational==True)`\n",
    "\n",
    "**4)** Both 1 & 3 are correct\n",
    "\n",
    "**5)** None of the above"
   ]
  },
  {
   "cell_type": "markdown",
   "metadata": {},
   "source": [
    "---\n",
    "## Question 3.2\n",
    "\n",
    "**How do you retrieve the last run job from a backend?**\n",
    "\n",
    "**1)** `backend.jobs()[0]`\n",
    "\n",
    "**2)** `backend.jobs()[-1]`\n",
    "\n",
    "**3)** `backend.retrieve_job()[0]`\n",
    "\n",
    "**4)** `backend.retrieve_job()[-1]`\n",
    "\n",
    "**5)** None of the above\n"
   ]
  },
  {
   "cell_type": "markdown",
   "metadata": {},
   "source": [
    "---\n",
    "## Question 3.3\n",
    "\n",
    "**The image below shows the calibration matrix for two qubits. What kind of noise caused this?**\n",
    "\n",
    "**Remember that a short decay time means more of the noise can be expected to have happened.\n",
    "Also note that in Qiskit qubit ordering is `q1q0`, e.g. $|01 \\rangle$ means `q1` is $|0 \\rangle$ and `q0` is $|1 \\rangle$.**\n",
    "\n",
    "<img src=\"..\\questions\\real_devices_images\\calib.png\" align=\"left\" width=\"300\"/>"
   ]
  },
  {
   "cell_type": "markdown",
   "metadata": {},
   "source": [
    "**1)** Qubits in state $| 1 \\rangle $ decay down to $| 0 \\rangle $ before measurement. The decay times for both qubits are equal.\n",
    "\n",
    "**2)** Qubits in state $| 0 \\rangle $ decay down to $| 1 \\rangle $ before measurement. The decay time for `q0` is shorter than that for `q1`.\n",
    "\n",
    "**3)** Qubits in state $| 1 \\rangle $ decay down to $| 0 \\rangle $ before measurement. The decay time for `q0` is longer than that for `q1`.\n",
    "\n",
    "**4)** Qubits in state $| 0 \\rangle $ decay down to $| 1 \\rangle $ before measurement. The decay time for `q0` is longer than that for `q1`.\n",
    "\n",
    "**5)** Qubits in state $| 1 \\rangle $ decay down to $| 0 \\rangle $ before measurement. The decay time for `q0` is shorter than that for `q1`."
   ]
  },
  {
   "cell_type": "markdown",
   "metadata": {},
   "source": [
    "---\n",
    "## Question 3.4\n",
    "\n",
    "**The noise that caused the calibration matrix in the previous question depends on an array of $T_1$ times, where the element `T1[j]` is the decay time of the qubit `qr[j]` during measurement. Once this has been defined, the noise is simulated with**\n",
    "\n",
    "```\n",
    "T2 = [1,1] # arbitrarily chosen T2 times\n",
    "time_measure = 10 # arbitrarily chosen measurement time\n",
    "noise_thermal = NoiseModel()\n",
    "for j in range(2):\n",
    "    noise_thermal.add_quantum_error(thermal_relaxation_error(T1[j], T2[j], time_measure) , \"measure\", [j])\n",
    "```\n",
    "\n",
    "**Which $T_1$ times create a calibration matrix closest to the one shown above?**\n",
    "\n",
    "**1)** `[100,30]`\n",
    "\n",
    "**2)** `[50,3]`\n",
    "\n",
    "**3)** `[3,10]`\n",
    "\n",
    "**4)** `[30,100]`\n",
    "\n",
    "**5)** `[1,1000]`"
   ]
  },
  {
   "cell_type": "markdown",
   "metadata": {},
   "source": [
    "Please, submit your answers in the following form: https://eba459700.typeform.com/to/O6iKsoWo (so that I get an overview which questions might be more challenging for the audience and can explain those in more detail)"
   ]
  }
 ],
 "metadata": {
  "kernelspec": {
   "display_name": "Python 3.9.6 ('venv': venv)",
   "language": "python",
   "name": "python3"
  },
  "language_info": {
   "codemirror_mode": {
    "name": "ipython",
    "version": 3
   },
   "file_extension": ".py",
   "mimetype": "text/x-python",
   "name": "python",
   "nbconvert_exporter": "python",
   "pygments_lexer": "ipython3",
   "version": "3.9.6"
  },
  "vscode": {
   "interpreter": {
    "hash": "c740406460806eb0c1452f2491ae8d4980d0154eef9d20b847f7be865d24e0c4"
   }
  }
 },
 "nbformat": 4,
 "nbformat_minor": 4
}
