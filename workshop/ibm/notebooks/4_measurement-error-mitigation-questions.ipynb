{
 "cells": [
  {
   "cell_type": "markdown",
   "metadata": {},
   "source": [
    "---\n",
    "# 4. Measurement Error Mitigation (3 questions)\n",
    "Reference material: \n",
    "1. [Qiskit Documentation - Measurement Mitigation Utils](https://qiskit.org/documentation/apidoc/utils_mitigation.html)\n",
    "1. [Coding with Qiskit - Ep.8 Mitigating Noise on Real Quantum Computers](https://www.youtube.com/watch?v=yuDxHJOKsVA)\n",
    "\n",
    "Let us again start with some useful imports"
   ]
  },
  {
   "cell_type": "code",
   "execution_count": null,
   "metadata": {},
   "outputs": [],
   "source": [
    "%matplotlib inline\n",
    "from qiskit import QuantumCircuit, execute, Aer, IBMQ, QuantumRegister\n",
    "from qiskit.tools.monitor import job_monitor\n",
    "from qiskit.providers.ibmq import least_busy\n",
    "from qiskit.visualization import plot_histogram\n",
    "from qiskit.utils.mitigation import complete_meas_cal, CompleteMeasFitter\n",
    "from qiskit.providers.aer import noise\n",
    "from qiskit.providers.aer.noise import NoiseModel\n",
    "\n",
    "provider = IBMQ.load_account()\n",
    "provider = IBMQ.get_provider(hub='ibm-q-education', group='eth-zurich-ibm-1', project='cern-workshop')"
   ]
  },
  {
   "cell_type": "markdown",
   "metadata": {},
   "source": [
    "---\n",
    "## Space for trying out answers\n",
    "You can add any new cells in this notebook to try to figure out the answers for the questions below. "
   ]
  },
  {
   "cell_type": "code",
   "execution_count": null,
   "metadata": {},
   "outputs": [],
   "source": [
    "# you can insert new cells like this by clicking the \"+\" button on the menu bar"
   ]
  },
  {
   "cell_type": "code",
   "execution_count": null,
   "metadata": {},
   "outputs": [],
   "source": []
  },
  {
   "cell_type": "code",
   "execution_count": null,
   "metadata": {},
   "outputs": [],
   "source": []
  },
  {
   "cell_type": "code",
   "execution_count": null,
   "metadata": {},
   "outputs": [],
   "source": []
  },
  {
   "cell_type": "code",
   "execution_count": null,
   "metadata": {},
   "outputs": [],
   "source": []
  },
  {
   "cell_type": "markdown",
   "metadata": {},
   "source": [
    "Consider the following three sets of noisy counts implemented on ``ibm_nairobi`` with the layout ``[0,1,2,3,5]``.\n",
    "\n",
    "**Create a measurement filter in order to get the mitigated data. Given this mitigated data, which of the following histograms most likely resembles the *error-free* counts of the same circuit?**\n",
    "\n",
    "Note, that as there are other types of errors for which we cannot correct with this method, you will not get completely noise-free results, but you should be able to guess the correct results from the trend of the mitigated results.\n",
    "\n",
    "## Question 4.1"
   ]
  },
  {
   "cell_type": "code",
   "execution_count": 51,
   "metadata": {},
   "outputs": [],
   "source": [
    "# 4.1\n",
    "noisy_counts1 = {'00000': 1837, '00001': 22, '10000': 50, '10001': 3, '10010': 1, '10011': 2, '10101': 3, '10110': 5, '10111': 38, '11000': 25, '11001': 10, '11010': 10, '11011': 83, '11100': 4, '11101': 59, '11110': 81, '11111': 1525, '00010': 39, '00011': 10, '00100': 25, '00101': 3, '00110': 8, '00111': 41, '01000': 32, '01001': 1, '01010': 2, '01011': 6, '01100': 2, '01101': 1, '01110': 1, '01111': 71}"
   ]
  },
  {
   "cell_type": "markdown",
   "metadata": {},
   "source": [
    "a) <img src=\"..\\questions\\real_devices_images\\hist_1a.png\" width=\"500\"/>\n",
    "b) <img src=\"..\\questions\\real_devices_images\\hist_1b.png\" width=\"500\"/> \n",
    "c) <img src=\"..\\questions\\real_devices_images\\hist_1c.png\" width=\"500\"/> \n",
    "d) <img src=\"..\\questions\\real_devices_images\\hist_1d.png\" width=\"500\"/>"
   ]
  },
  {
   "cell_type": "markdown",
   "metadata": {},
   "source": [
    "## Question 4.2"
   ]
  },
  {
   "cell_type": "code",
   "execution_count": 52,
   "metadata": {},
   "outputs": [],
   "source": [
    "# 4.2\n",
    "noisy_counts2 = {'00000': 1489, '00001': 22, '10000': 36, '10001': 2, '10010': 1, '10011': 1, '10100': 1, '10101': 2, '10110': 2, '10111': 46, '11000': 22, '11001': 11, '11010': 5, '11011': 98, '11100': 5, '11101': 65, '11110': 81, '11111': 1858, '00010': 30, '00011': 5, '00100': 13, '00101': 2, '00110': 6, '00111': 72, '01000': 19, '01001': 1, '01010': 1, '01011': 8, '01100': 1, '01101': 4, '01110': 6, '01111': 85}"
   ]
  },
  {
   "cell_type": "markdown",
   "metadata": {},
   "source": [
    "a) <img src=\"..\\questions\\real_devices_images\\hist_2a.png\" width=\"500\"/>\n",
    "b) <img src=\"..\\questions\\real_devices_images\\hist_2b.png\" width=\"500\"/> \n",
    "c) <img src=\"..\\questions\\real_devices_images\\hist_2c.png\" width=\"500\"/> \n",
    "d) <img src=\"..\\questions\\real_devices_images\\hist_2d.png\" width=\"500\"/>"
   ]
  },
  {
   "cell_type": "markdown",
   "metadata": {},
   "source": [
    "## Question 4.3"
   ]
  },
  {
   "cell_type": "code",
   "execution_count": 53,
   "metadata": {},
   "outputs": [],
   "source": [
    "# 4.3\n",
    "noisy_counts3 = {'00000': 44, '00001': 7, '10000': 51, '10001': 7, '10010': 6, '10011': 41, '10100': 424, '10101': 26, '10110': 27, '10111': 428, '11000': 43, '11001': 8, '11010': 4, '11011': 46, '11100': 386, '11101': 27, '11110': 28, '11111': 392, '00010': 2, '00011': 49, '00100': 452, '00101': 20, '00110': 36, '00111': 447, '01000': 46, '01001': 9, '01010': 6, '01011': 24, '01100': 444, '01101': 18, '01110': 22, '01111': 430}"
   ]
  },
  {
   "cell_type": "markdown",
   "metadata": {},
   "source": [
    "a) <img src=\"..\\questions\\real_devices_images\\hist_3a.png\" width=\"500\"/>\n",
    "b) <img src=\"..\\questions\\real_devices_images\\hist_3b.png\" width=\"500\"/> \n",
    "c) <img src=\"..\\questions\\real_devices_images\\hist_3c.png\" width=\"500\"/> \n",
    "d) <img src=\"..\\questions\\real_devices_images\\hist_3d.png\" width=\"500\"/>"
   ]
  },
  {
   "cell_type": "markdown",
   "metadata": {},
   "source": [
    "Please, submit your answers in the following form: https://eba459700.typeform.com/to/qGJuUJEr (so that I get an overview which questions might be more challenging for the audience and can explain those in more detail)"
   ]
  }
 ],
 "metadata": {
  "kernelspec": {
   "display_name": "Python 3 (ipykernel)",
   "language": "python",
   "name": "python3"
  },
  "language_info": {
   "codemirror_mode": {
    "name": "ipython",
    "version": 3
   },
   "file_extension": ".py",
   "mimetype": "text/x-python",
   "name": "python",
   "nbconvert_exporter": "python",
   "pygments_lexer": "ipython3",
   "version": "3.10.4"
  }
 },
 "nbformat": 4,
 "nbformat_minor": 4
}
