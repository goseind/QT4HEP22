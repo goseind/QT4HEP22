{
  "cells": [
    {
      "cell_type": "markdown",
      "metadata": {
        "id": "hWg6jjQc4aj3"
      },
      "source": [
        "## **CERN: [International Conference on Quantum Technologies for High-Energy Physics](https://indico.cern.ch/event/1190278/)**"
      ]
    },
    {
      "cell_type": "markdown",
      "metadata": {
        "id": "Mw83fgPuBu-6"
      },
      "source": [
        "**Annalisa Pawlosky, PhD**, *Senior Research Scientist at Google*\n",
        "\n",
        "[Google Scholar](https://scholar.google.com/citations?view_op=list_works&hl=de&user=rLeFKJgAAAAJ) $\\cdot$ [LinkedIn](https://www.linkedin.com/in/annalisa-pawlosky-bb7579178/)\n",
        "\n",
        "**Alexander Del Toro Barba, PhD**, *Quantum Computing Practice Lead at Google Cloud*\n",
        "\n",
        "[Google Scholar](https://scholar.google.com/citations?hl=en&user=fddyK-wAAAAJ) $\\cdot$ [LinkedIn](https://www.linkedin.com/in/deltorobarba/)\n"
      ]
    },
    {
      "cell_type": "markdown",
      "metadata": {
        "id": "Gi9vCahYLvix"
      },
      "source": [
        "#### **[Install Libraries]**"
      ]
    },
    {
      "cell_type": "markdown",
      "metadata": {
        "id": "89z0wFhtUblE"
      },
      "source": [
        "*You can view this notebook shared publicly without sign-in. But in order to execute code, a Google account sign-in is required. Instructions to create a Google account are [here](https://support.google.com/accounts/answer/27441?hl=en).*"
      ]
    },
    {
      "cell_type": "code",
      "execution_count": 1,
      "metadata": {
        "id": "pHUBitxCFpsI",
        "outputId": "5547957c-d78b-41a8-cfec-f8d3e0437c57",
        "colab": {
          "base_uri": "https://localhost:8080/"
        }
      },
      "outputs": [
        {
          "output_type": "stream",
          "name": "stdout",
          "text": [
            "\u001b[K     |████████████████████████████████| 665.5 MB 22 kB/s \n",
            "\u001b[K     |████████████████████████████████| 1.3 MB 7.6 MB/s \n",
            "\u001b[K     |████████████████████████████████| 463 kB 56.9 MB/s \n",
            "\u001b[K     |████████████████████████████████| 10.5 MB 7.6 MB/s \n",
            "\u001b[K     |████████████████████████████████| 90 kB 9.2 MB/s \n",
            "\u001b[K     |████████████████████████████████| 6.1 MB 48.9 MB/s \n",
            "\u001b[K     |████████████████████████████████| 90 kB 9.2 MB/s \n",
            "\u001b[K     |████████████████████████████████| 100 kB 9.0 MB/s \n",
            "\u001b[K     |████████████████████████████████| 1.6 MB 53.3 MB/s \n",
            "\u001b[K     |████████████████████████████████| 576 kB 48.9 MB/s \n",
            "\u001b[K     |████████████████████████████████| 47 kB 4.5 MB/s \n",
            "\u001b[K     |████████████████████████████████| 641 kB 51.1 MB/s \n",
            "\u001b[K     |████████████████████████████████| 541 kB 47.5 MB/s \n",
            "\u001b[K     |████████████████████████████████| 541 kB 56.4 MB/s \n",
            "\u001b[K     |████████████████████████████████| 437 kB 40.9 MB/s \n",
            "\u001b[K     |████████████████████████████████| 115 kB 61.4 MB/s \n",
            "\u001b[K     |████████████████████████████████| 115 kB 56.1 MB/s \n",
            "\u001b[K     |████████████████████████████████| 115 kB 70.4 MB/s \n",
            "\u001b[K     |████████████████████████████████| 93 kB 2.2 MB/s \n",
            "\u001b[K     |████████████████████████████████| 93 kB 1.8 MB/s \n",
            "\u001b[K     |████████████████████████████████| 93 kB 1.9 MB/s \n",
            "\u001b[K     |████████████████████████████████| 93 kB 1.7 MB/s \n",
            "\u001b[K     |████████████████████████████████| 93 kB 1.6 MB/s \n",
            "\u001b[K     |████████████████████████████████| 93 kB 1.2 MB/s \n",
            "\u001b[K     |████████████████████████████████| 93 kB 1.3 MB/s \n",
            "\u001b[K     |████████████████████████████████| 93 kB 1.6 MB/s \n",
            "\u001b[K     |████████████████████████████████| 93 kB 1.3 MB/s \n",
            "\u001b[K     |████████████████████████████████| 92 kB 1.3 MB/s \n",
            "\u001b[K     |████████████████████████████████| 93 kB 1.5 MB/s \n",
            "\u001b[K     |████████████████████████████████| 93 kB 1.5 MB/s \n",
            "\u001b[K     |████████████████████████████████| 93 kB 1.4 MB/s \n",
            "\u001b[K     |████████████████████████████████| 92 kB 1.3 MB/s \n",
            "\u001b[K     |████████████████████████████████| 92 kB 1.1 MB/s \n",
            "\u001b[K     |████████████████████████████████| 92 kB 264 kB/s \n",
            "\u001b[K     |████████████████████████████████| 92 kB 172 kB/s \n",
            "\u001b[K     |████████████████████████████████| 92 kB 12.0 MB/s \n",
            "\u001b[K     |████████████████████████████████| 91 kB 9.1 MB/s \n",
            "\u001b[K     |████████████████████████████████| 91 kB 11.0 MB/s \n",
            "\u001b[K     |████████████████████████████████| 91 kB 9.6 MB/s \n",
            "\u001b[K     |████████████████████████████████| 91 kB 10.2 MB/s \n",
            "\u001b[K     |████████████████████████████████| 91 kB 9.7 MB/s \n",
            "\u001b[K     |████████████████████████████████| 91 kB 9.9 MB/s \n",
            "\u001b[K     |████████████████████████████████| 91 kB 8.8 MB/s \n",
            "\u001b[31mERROR: pip's dependency resolver does not currently take into account all the packages that are installed. This behaviour is the source of the following dependency conflicts.\n",
            "pydata-google-auth 1.4.0 requires google-auth<3.0dev,>=1.25.0; python_version >= \"3.6\", but you have google-auth 1.18.0 which is incompatible.\n",
            "pydantic 1.10.2 requires typing-extensions>=4.1.0, but you have typing-extensions 3.10.0.0 which is incompatible.\n",
            "google-cloud-bigquery-storage 1.1.2 requires google-api-core[grpc]!=2.0.*,!=2.1.*,!=2.2.*,!=2.3.0,<3.0.0dev,>=1.31.5, but you have google-api-core 1.21.0 which is incompatible.\u001b[0m\n",
            "\u001b[?25hCirq version: 0.13.1\n",
            "TensorFlow version: 2.7.0\n",
            "TensorFlow Quantum version: 0.7.2\n"
          ]
        }
      ],
      "source": [
        "!pip install tensorflow==2.7.0 -q\n",
        "!pip install tensorflow-quantum==0.7.2 -q\n",
        "\n",
        "import importlib, pkg_resources\n",
        "importlib.reload(pkg_resources)\n",
        "\n",
        "import cirq_google\n",
        "import tensorflow as tf\n",
        "import tensorflow_quantum as tfq\n",
        "\n",
        "\n",
        "import math\n",
        "import cirq\n",
        "import sympy\n",
        "import numpy as np\n",
        "import seaborn as sns\n",
        "import networkx as nx\n",
        "from sympy import Matrix\n",
        "from sympy.physics.quantum import TensorProduct\n",
        "\n",
        "%matplotlib inline\n",
        "import matplotlib.pyplot as plt\n",
        "from cirq.contrib.svg import SVGCircuit\n",
        "\n",
        "print('Cirq version:', cirq.__version__)\n",
        "print('TensorFlow version:', tf.__version__)\n",
        "print('TensorFlow Quantum version:', tfq.__version__)"
      ]
    },
    {
      "cell_type": "markdown",
      "metadata": {
        "id": "omYrKJNm58dU"
      },
      "source": [
        "#### **Part 1: Quantum Computing with <font color=\"blue\">Cirq**"
      ]
    },
    {
      "cell_type": "markdown",
      "source": [
        "###### *Complete Introductory Example*"
      ],
      "metadata": {
        "id": "_zw1dGwEN3ut"
      }
    },
    {
      "cell_type": "markdown",
      "metadata": {
        "id": "w_DMTCkZDPD7"
      },
      "source": [
        " * Homepage: [quantumai.google/cirq](https://quantumai.google/cirq)\n",
        "\n",
        "* Youtube video series: [Getting started with Cirq 1.0](https://www.youtube.com/watch?v=4OQrPHmjpVc&list=PLpO2pyKisOjLVt_tDJ2K6ZTapZtHXPLB4)\n",
        "\n",
        "* See following notebook and many more information [here](https://quantumai.google/cirq/start/basics)"
      ]
    },
    {
      "cell_type": "code",
      "source": [
        "# Create Vanilla Qubits\n",
        "a = cirq.NamedQubit(\"a\")\n",
        "b = cirq.NamedQubit(\"b\")\n",
        "c = cirq.NamedQubit(\"c\")\n",
        "\n",
        "qubits = cirq.LineQubit.range(3)\n",
        "\n",
        "# Create Operation\n",
        "ops=[cirq.X(a),\n",
        "     cirq.CCNOT(a,b, c),\n",
        "     cirq.measure(a),\n",
        "     cirq.measure(b),\n",
        "     cirq.measure(c)]\n",
        "circuit=cirq.Circuit(ops)\n",
        "print(circuit)"
      ],
      "metadata": {
        "id": "AF-5AAhlN549",
        "outputId": "4350261b-f5f6-418b-8554-3c5b50544fe7",
        "colab": {
          "base_uri": "https://localhost:8080/"
        }
      },
      "execution_count": 2,
      "outputs": [
        {
          "output_type": "stream",
          "name": "stdout",
          "text": [
            "a: ───X───@───M───\n",
            "          │\n",
            "b: ───────@───M───\n",
            "          │\n",
            "c: ───────X───M───\n"
          ]
        }
      ]
    },
    {
      "cell_type": "code",
      "source": [
        "# Run Simulation, Measure and Visualize\n",
        "simulator = cirq.Simulator()\n",
        "result = simulator.run(circuit,repetitions=10)\n",
        "print('Measurement results:', result) # 0: 00, 1: 01, 2: 10, 3: 11 etc\n",
        "_ = cirq.vis.plot_state_histogram(result, plt.subplot())\n",
        "result.histogram(key=\"a\")"
      ],
      "metadata": {
        "id": "ohxUJ_taN8Fc",
        "outputId": "ab34349c-c415-4d28-e674-646b4491be59",
        "colab": {
          "base_uri": "https://localhost:8080/",
          "height": 368
        }
      },
      "execution_count": 3,
      "outputs": [
        {
          "output_type": "stream",
          "name": "stdout",
          "text": [
            "Measurement results: a=1111111111\n",
            "b=0000000000\n",
            "c=0000000000\n"
          ]
        },
        {
          "output_type": "execute_result",
          "data": {
            "text/plain": [
              "Counter({1: 10})"
            ]
          },
          "metadata": {},
          "execution_count": 3
        },
        {
          "output_type": "display_data",
          "data": {
            "text/plain": [
              "<Figure size 432x288 with 1 Axes>"
            ],
            "image/png": "[encoded data removed]"
          },
          "metadata": {
            "needs_background": "light"
          }
        }
      ]
    },
    {
      "cell_type": "code",
      "source": [
        "# Pick a qubit.\n",
        "qubit = cirq.GridQubit(0, 0)\n",
        "\n",
        "# Create a circuit\n",
        "circuit = cirq.Circuit(\n",
        "    cirq.X(qubit)**0.5,  # Square root of NOT.\n",
        "    cirq.measure(qubit, key='m')  # Measurement.\n",
        ")\n",
        "print(\"Circuit:\")\n",
        "print(circuit)\n",
        "\n",
        "# Simulate the circuit several times.\n",
        "simulator = cirq.Simulator()\n",
        "result = simulator.run(circuit, repetitions=20)\n",
        "print(\"Results:\")\n",
        "print(result)"
      ],
      "metadata": {
        "id": "tCiY26LrUAKV"
      },
      "execution_count": null,
      "outputs": []
    },
    {
      "cell_type": "markdown",
      "source": [
        "###### *Qubits*"
      ],
      "metadata": {
        "id": "qI0n8rIJQlhl"
      }
    },
    {
      "cell_type": "markdown",
      "source": [
        "The first part of creating a quantum circuit is to define a set of qubits (also known as a quantum register) to act on. [Cirq has three main ways of defining qubits](https://quantumai.google/cirq/build/qubits):\n",
        "\n",
        "* **cirq.NamedQubit**: used to label qubits by an abstract name.\n",
        "* **cirq.LineQubit**: qubits labelled by number in a linear array.\n",
        "* **cirq.GridQubit**: qubits labelled by two numbers in a rectangular lattice."
      ],
      "metadata": {
        "id": "hOJ8-O9WnUcG"
      }
    },
    {
      "cell_type": "code",
      "source": [
        "# Using named qubits can be useful for abstract algorithms\n",
        "# as well as algorithms not yet mapped onto hardware.\n",
        "q0 = cirq.NamedQubit('source')\n",
        "q1 = cirq.NamedQubit('target')\n",
        "\n",
        "# Line qubits can be created individually\n",
        "q3 = cirq.LineQubit(3)\n",
        "\n",
        "# Or created in a range\n",
        "# This will create LineQubit(0), LineQubit(1), LineQubit(2)\n",
        "q0, q1, q2 = cirq.LineQubit.range(3)\n",
        "\n",
        "# Grid Qubits can also be referenced individually\n",
        "q4_5 = cirq.GridQubit(4, 5)\n",
        "\n",
        "# Or created in bulk in a square\n",
        "# This will create 16 qubits from (0,0) to (3,3)\n",
        "qubits = cirq.GridQubit.square(4)"
      ],
      "metadata": {
        "id": "UQpI4Q2FnQ6E"
      },
      "execution_count": null,
      "outputs": []
    },
    {
      "cell_type": "code",
      "source": [
        "qubits"
      ],
      "metadata": {
        "id": "DAhTohiOqB42"
      },
      "execution_count": null,
      "outputs": []
    },
    {
      "cell_type": "markdown",
      "source": [
        "There are also pre-packaged sets of qubits called [Devices](https://quantumai.google/cirq/hardware/devices). These are qubits along with a set of rules for how they can be used. \n",
        "\n",
        "A cirq.Device can be used to ensure that two-qubit gates are only applied to qubits that are adjacent in the hardware, and other constraints. The following example will use the cirq_google.Sycamore device that comes with cirq. It is a diamond-shaped grid with 54 qubits that mimics early hardware released by Google.\n",
        "\n",
        "![sycamore](https://4.bp.blogspot.com/-b9akad6ismU/WpmyaJo-cYI/AAAAAAAACa8/mCqPBJxv5oUivy6Jq42FSOQYkeRlTmkiwCLcBGAs/s1600/image1.png)"
      ],
      "metadata": {
        "id": "TI1inRfaL8KI"
      }
    },
    {
      "cell_type": "code",
      "source": [
        "my_device = cirq_google.Sycamore\n",
        "print(my_device)"
      ],
      "metadata": {
        "id": "BeFfKqgfMEIr"
      },
      "execution_count": null,
      "outputs": []
    },
    {
      "cell_type": "markdown",
      "source": [
        "###### *Gates and Operations*"
      ],
      "metadata": {
        "id": "BvASFtd4QoNr"
      }
    },
    {
      "cell_type": "markdown",
      "source": [
        "* A Gate is an effect that can be applied to a set of qubits.\n",
        "\n",
        "* An Operation is a gate applied to a set of qubits.\n",
        "\n",
        "For instance, cirq.H is the quantum Hadamard and is a Gate object. cirq.H(cirq.LineQubit(1)) is an Operation object and is the Hadamard gate applied to a specific qubit (line qubit number 1).\n",
        "\n",
        "Many textbook gates are included within cirq. cirq.X, cirq.Y, and cirq.Z refer to the single-qubit Pauli gates. cirq.CZ, cirq.CNOT, cirq.SWAP are a few of the common two-qubit gates. cirq.measure is a macro to apply a MeasurementGate to a set of qubits. You can find more, as well as instructions on how to create your own custom gates, on the [Gates documentation](https://quantumai.google/cirq/build/gates) page."
      ],
      "metadata": {
        "id": "e3lt3c5LMsTf"
      }
    },
    {
      "cell_type": "code",
      "source": [
        "# Example gates\n",
        "cnot_gate = cirq.CNOT\n",
        "pauli_z = cirq.Z\n",
        "\n",
        "# Use exponentiation to get square root gates.\n",
        "sqrt_x_gate = cirq.X**0.5\n",
        "\n",
        "# Some gates can also take parameters\n",
        "sqrt_sqrt_y = cirq.YPowGate(exponent=0.25)\n",
        "\n",
        "# Create two qubits at once, in a line.\n",
        "q0, q1 = cirq.LineQubit.range(2)\n",
        "\n",
        "# Example operations\n",
        "z_op = cirq.Z(q0)\n",
        "not_op = cirq.CNOT(q0, q1)\n",
        "sqrt_iswap_op = cirq.SQRT_ISWAP(q0, q1)\n",
        "\n",
        "# You can also use the gates you specified earlier.\n",
        "cnot_op = cnot_gate(q0, q1)\n",
        "pauli_z_op = pauli_z(q0)\n",
        "sqrt_x_op = sqrt_x_gate(q0)\n",
        "sqrt_sqrt_y_op = sqrt_sqrt_y(q0)"
      ],
      "metadata": {
        "id": "orEPkAwCNy9m"
      },
      "execution_count": null,
      "outputs": []
    },
    {
      "cell_type": "markdown",
      "source": [
        "###### *Circuits and moments*"
      ],
      "metadata": {
        "id": "q0xOUtaNQrpR"
      }
    },
    {
      "cell_type": "markdown",
      "source": [
        "You are now ready to construct a quantum circuit. A Circuit is a collection of Moments. \n",
        "\n",
        "A Moment is a collection of Operations that all act during the same abstract time slice. Each Operation must be applied to a disjoint set of qubits compared to each of the other Operations in the Moment. A Moment can be thought of as a vertical slice of a quantum circuit diagram.\n",
        "\n",
        "![moments](https://raw.githubusercontent.com/deltorobarba/repo/master/sciences_1212.png)\n"
      ],
      "metadata": {
        "id": "mdtOhOCiOYMw"
      }
    },
    {
      "cell_type": "markdown",
      "source": [
        "<font color=\"blue\">**Tensor-Multiplication (Kronecker) for combination of operators within one moment** *Two systems being described as a joint system*\n",
        "\n",
        "> $\\left[\\begin{array}{ll}a & b \\\\ c & d\\end{array}\\right] \\otimes\\left[\\begin{array}{ll}e & f \\\\ g & h\\end{array}\\right]=\\left[\\begin{array}{lll}a\\left[\\begin{array}{ll}e & f \\\\ g & h\\end{array}\\right] & b\\left[\\begin{array}{ll}e & f \\\\ g & h\\end{array}\\right] \\\\ c\\left[\\begin{array}{ll}e & f \\\\ g & h\\end{array}\\right] & d\\left[\\begin{array}{llll}e & f \\\\ g & h\\end{array}\\right]\\end{array}\\right]=\\left[\\begin{array}{llll}a e & a f & \\text { be } & b f \\\\ a g & a h & b g & b h \\\\ c e & c f & d e & d f \\\\ c g & c h & d g & d h\\end{array}\\right]$\n",
        "\n",
        "Example with Pauli X and Pauli Y gate\n",
        "\n",
        "> $Y \\otimes X=\\left[\\begin{array}{cc}0 & -i \\\\ i & 0\\end{array}\\right] \\otimes\\left[\\begin{array}{ll}0 & 1 \\\\ 1 & 0\\end{array}\\right]=\\left[\\begin{array}{ll}0\\left[\\begin{array}{ll}0 & 1 \\\\ 1 & 0\\end{array}\\right] & -i\\left[\\begin{array}{ll}0 & 1 \\\\ 1 & 0\\end{array}\\right] \\\\ i\\left[\\begin{array}{ll}0 & 1 \\\\ 1 & 0\\end{array}\\right] & 0\\left[\\begin{array}{ll}0 & 1 \\\\ 1 & 0\\end{array}\\right]\\end{array}\\right]=\\left[\\begin{array}{cccc}0 & 0 & 0 & -i \\\\ 0 & 0 & -i & 0 \\\\ 0 & i & 0 & 0 \\\\ i & 0 & 0 & 0\\end{array}\\right]$\n"
      ],
      "metadata": {
        "id": "YFbPFKAmRnNm"
      }
    },
    {
      "cell_type": "code",
      "source": [
        "m1 = Matrix([[1],[0]])\n",
        "m2 = Matrix([[1],[0]])\n",
        "m3 = Matrix([[1],[0]])\n",
        "\n",
        "matrix = TensorProduct(m1, m2, m3)\n",
        "matrix"
      ],
      "metadata": {
        "id": "nkoZOe_lTF8g"
      },
      "execution_count": null,
      "outputs": []
    },
    {
      "cell_type": "markdown",
      "source": [
        "**<font color=\"blue\">Usual Matrix-Multiplication for serially wired gates** *A line in the circuit is considered as a quantum wire and basically represents a single qubit. The product of operators keeps the same dimension*\n",
        "\n",
        "\n",
        "![ggg](https://upload.wikimedia.org/wikipedia/commons/thumb/0/0a/Serially_wired_quantum_logic_gates.png/500px-Serially_wired_quantum_logic_gates.png)\n",
        "\n",
        "Putting the Pauli X gate after the Pauli Y gate (both act on a single qubit) can be described as a single combined gate C:\n",
        "\n",
        ">$C = X \\cdot Y=\\left[\\begin{array}{ll}\n",
        "0 & 1 \\\\\n",
        "1 & 0\n",
        "\\end{array}\\right] \\cdot\\left[\\begin{array}{cc}\n",
        "0 & -i \\\\\n",
        "i & 0\n",
        "\\end{array}\\right]=\\left[\\begin{array}{cc}\n",
        "i & 0 \\\\\n",
        "0 & -i\n",
        "\\end{array}\\right]\n",
        "$\n",
        "\n",
        ">$\n",
        "X \\cdot X=\\left(\\begin{array}{ll}\n",
        "0 & 1 \\\\\n",
        "1 & 0\n",
        "\\end{array}\\right)\\left(\\begin{array}{ll}\n",
        "0 & 1 \\\\\n",
        "1 & 0\n",
        "\\end{array}\\right)=\\left(\\begin{array}{ll}\n",
        "1 & 0 \\\\\n",
        "0 & 1\n",
        "\\end{array}\\right)=I\n",
        "$"
      ],
      "metadata": {
        "id": "NBEnOe8ER-ol"
      }
    },
    {
      "cell_type": "markdown",
      "source": [
        "Circuits can be constructed in several different ways. By default, Cirq will attempt to slide your operation into the earliest possible Moment when you insert it. You can use the append function in two ways:\n",
        "\n",
        "By appending each operation one-by-one:"
      ],
      "metadata": {
        "id": "IHrQHfcsxlnH"
      }
    },
    {
      "cell_type": "code",
      "source": [
        "circuit = cirq.Circuit()\n",
        "\n",
        "qubits = cirq.LineQubit.range(4)\n",
        "\n",
        "circuit.append(cirq.H(qubits[0]))\n",
        "circuit.append(cirq.H(qubits[1]))\n",
        "circuit.append(cirq.H(qubits[2]))\n",
        "circuit.append(cirq.H(qubits[3]))\n",
        "\n",
        "\n",
        "print(circuit)"
      ],
      "metadata": {
        "id": "kUfqChjPOWjg"
      },
      "execution_count": null,
      "outputs": []
    },
    {
      "cell_type": "markdown",
      "source": [
        "Or by appending some iterable of operations. A preconstructed list works:"
      ],
      "metadata": {
        "id": "DgrvLz5SPedi"
      }
    },
    {
      "cell_type": "code",
      "source": [
        "circuit = cirq.Circuit()\n",
        "\n",
        "ops = [cirq.H(q) for q in cirq.LineQubit.range(4)]\n",
        "\n",
        "circuit.append(ops)\n",
        "\n",
        "print(circuit)"
      ],
      "metadata": {
        "id": "wmGUGU30PgRc"
      },
      "execution_count": null,
      "outputs": []
    },
    {
      "cell_type": "markdown",
      "source": [
        "A generator that yields operations also works. This syntax will be used often in documentation, and works both with the cirq.Circuit() initializer and the cirq.Circuit.append() function (for example used in Phase Estimation to append inverse Quantum Fourier Transform)"
      ],
      "metadata": {
        "id": "nZ6n_qlvS21X"
      }
    },
    {
      "cell_type": "code",
      "source": [
        "# Append with generator\n",
        "\n",
        "circuit = cirq.Circuit()\n",
        "circuit.append(cirq.H(q) for q in cirq.LineQubit.range(4))\n",
        "print(circuit)"
      ],
      "metadata": {
        "id": "7pqi9u5bS4by"
      },
      "execution_count": null,
      "outputs": []
    },
    {
      "cell_type": "code",
      "source": [
        "# Initializer with generator\n",
        "\n",
        "print(cirq.Circuit(cirq.H(q) for q in cirq.LineQubit.range(4)))"
      ],
      "metadata": {
        "id": "FNxTcQsoyH5F"
      },
      "execution_count": null,
      "outputs": []
    },
    {
      "cell_type": "code",
      "source": [
        "\"\"\"Creating a circuit.\"\"\"\n",
        "\n",
        "# Define three qubits.\n",
        "a = cirq.NamedQubit(\"a\")\n",
        "b = cirq.NamedQubit(\"b\")\n",
        "c = cirq.NamedQubit(\"c\")\n",
        "\n",
        "# Define a list of operations.\n",
        "ops = [cirq.H(a), \n",
        "       cirq.H(b), \n",
        "       cirq.CNOT(b, c), \n",
        "       cirq.H(b)]\n",
        "\n",
        "# Create a circuit from the list of operations.\n",
        "circuit = cirq.Circuit(ops)\n",
        "\n",
        "print(\"Circuit:\\n\")\n",
        "print(circuit)"
      ],
      "metadata": {
        "id": "7HYK6f-_fvjB"
      },
      "execution_count": null,
      "outputs": []
    },
    {
      "cell_type": "markdown",
      "source": [
        "If your operations are applied to the same qubits, they will be put in sequential, insertion-ordered moments. In the following example, the two-qubit gates overlap, and are placed in consecutive moments."
      ],
      "metadata": {
        "id": "HFIdzSYvTkK6"
      }
    },
    {
      "cell_type": "code",
      "source": [
        "print(cirq.Circuit(cirq.SWAP(q, q + 1) for q in cirq.LineQubit.range(3)))"
      ],
      "metadata": {
        "id": "wmgdnRAnTmWe"
      },
      "execution_count": null,
      "outputs": []
    },
    {
      "cell_type": "markdown",
      "source": [
        "Sometimes, you may not want Cirq to automatically shift operations all the way to the left. To construct a circuit without doing this, you can create the circuit moment-by-moment or use a different InsertStrategy, explained more in the [Circuit documentation](https://quantumai.google/cirq/build/circuits)\n",
        "\n"
      ],
      "metadata": {
        "id": "KbBLr3gQTpHy"
      }
    },
    {
      "cell_type": "code",
      "source": [
        "# Creates each gate in a separate moment by passing an iterable of Moments instead of Operations.\n",
        "print(cirq.Circuit(cirq.Moment([cirq.H(q)]) for q in cirq.LineQubit.range(3)))"
      ],
      "metadata": {
        "id": "2Y5J9ZB_TuUi"
      },
      "execution_count": null,
      "outputs": []
    },
    {
      "cell_type": "markdown",
      "source": [
        "###### *Circuits and devices*"
      ],
      "metadata": {
        "id": "dUSFjR9HTbQo"
      }
    },
    {
      "cell_type": "markdown",
      "source": [
        "One important consideration when using real quantum devices is that there are often constraints on circuits that are able to be run on the hardware. Device objects specify these constraints and can be used to validate your circuit to make sure that it contains no illegal operations. For more information on what constraints Device objects can specify and how to use them, see the [Devices page](https://quantumai.google/cirq/hardware/devices).\n",
        "\n",
        "The following example demonstrates this with the Sycamore Device:"
      ],
      "metadata": {
        "id": "Oe6NTvc9UPFi"
      }
    },
    {
      "cell_type": "code",
      "source": [
        "# Create some qubits.\n",
        "q0 = cirq.GridQubit(5, 6)\n",
        "q1 = cirq.GridQubit(5, 5)\n",
        "q2 = cirq.GridQubit(4, 5)\n",
        "\n",
        "# Create operations using the Sycamore gate, which is supported by the Sycamore device.\n",
        "# However, create operations for both adjacent and non-adjacent qubit pairs.\n",
        "adjacent_op = cirq_google.SYC(q0, q1)\n",
        "nonadjacent_op = cirq_google.SYC(q0, q2)\n",
        "\n",
        "# A working circuit for the Sycamore device raises no issues.\n",
        "working_circuit = cirq.Circuit()\n",
        "working_circuit.append(adjacent_op)\n",
        "valid = cirq_google.Sycamore.validate_circuit(working_circuit)\n",
        "\n",
        "# A circuit using invalid operations.\n",
        "bad_circuit = cirq.Circuit()\n",
        "bad_circuit.append(nonadjacent_op)\n",
        "try:\n",
        "    cirq_google.Sycamore.validate_circuit(bad_circuit)\n",
        "except ValueError as e:\n",
        "    print(e)"
      ],
      "metadata": {
        "id": "Z2VLC0tzUTzu"
      },
      "execution_count": null,
      "outputs": []
    },
    {
      "cell_type": "markdown",
      "source": [
        "###### *Simulation*"
      ],
      "metadata": {
        "id": "P3YPRe8jUxJb"
      }
    },
    {
      "cell_type": "markdown",
      "source": [
        "The results of the application of a quantum circuit can be calculated by a Simulator. Cirq comes bundled with a simulator that can calculate the results of circuits up to about a limit of 20 qubits. It can be initialized with [cirq.Simulator()](https://quantumai.google/reference/python/cirq/Simulator).\n",
        "\n",
        "There are two different approaches to using a simulator:\n",
        "\n",
        "* **simulate():** When classically simulating a circuit, a simulator can directly access and view the resulting wave function. This is useful for debugging, learning, and understanding how circuits will function.\n",
        "\n",
        "* **run():** When using actual quantum devices, we can only access the end result of a computation and must sample the results to get a distribution of results. Running the simulator as a sampler mimics this behavior and only returns bit strings as output.\n",
        "\n",
        "Next simulate a 2-qubit \"Bell State\":"
      ],
      "metadata": {
        "id": "NKXaINymU1Gs"
      }
    },
    {
      "cell_type": "code",
      "source": [
        "# Create a circuit to generate a Bell State:\n",
        "# 1/sqrt(2) * ( |00⟩ + |11⟩ )\n",
        "\n",
        "bell_circuit = cirq.Circuit()\n",
        "\n",
        "q0, q1 = cirq.LineQubit.range(2)\n",
        "\n",
        "bell_circuit.append(cirq.H(q0))\n",
        "bell_circuit.append(cirq.CNOT(q0, q1))\n",
        "\n",
        "# Initialize Simulator\n",
        "s = cirq.Simulator()\n",
        "results = s.simulate(bell_circuit)\n",
        "\n",
        "print('Simulate the circuit:')\n",
        "print(results)\n",
        "\n",
        "# For sampling, we need to add a measurement at the end\n",
        "bell_circuit.append(cirq.measure(q0, q1, key='result'))\n",
        "\n",
        "# Sample the circuit\n",
        "samples = s.run(bell_circuit, repetitions=1000)"
      ],
      "metadata": {
        "id": "o6J200DEVFH8"
      },
      "execution_count": null,
      "outputs": []
    },
    {
      "cell_type": "markdown",
      "source": [
        "**Virtual Machine Simulation**\n",
        "\n",
        "Cirq also provides the [Quantum Virtual Machine](https://quantumai.google/cirq/simulate/quantum_virtual_machine), which is a simulated virtual version of quantum hardware devices. It consists of two primary components:\n",
        "\n",
        "1. A virtual [Engine interface](https://quantumai.google/cirq/simulate/virtual_engine_interface) that enables you to verify and run circuits with the same interface that quantum hardware would have.\n",
        "\n",
        "2. A set of noise models that try to realistically replicate the noise present in actual Google quantum hardware devices.\n",
        "\n",
        "The QVM is intended to serve as a replacement for the Google quantum hardware, in two cases:\n",
        "\n",
        "1. Running your circuit on a QVM can give an approximation of how your circuit runs under the influence of hardware-like noise. This can be useful to help you reconfigure or change your circuit to be less impacted by noise when run on actual quantum hardware.\n",
        "\n",
        "2. During the preparation process before running your circuit(s) on hardware, you can seamlessly use a QVM to test that your workflow or pipeline works before eventually switching to the nearly-identical hardware interface.\n",
        "\n",
        "Read more about the QVM and its uses in the [Quantum Virtual Machine page](https://quantumai.google/cirq/simulate/quantum_virtual_machine), or just start using it with the [QVM Creation Template page](https://quantumai.google/cirq/simulate/qvm_builder_code)."
      ],
      "metadata": {
        "id": "xntRZ3evVTk6"
      }
    },
    {
      "cell_type": "markdown",
      "source": [
        "###### *Visualizing Results*"
      ],
      "metadata": {
        "id": "OvMIcvRyV20W"
      }
    },
    {
      "cell_type": "markdown",
      "source": [
        "When you use run() to get a sample distribution of measurements, you can directly graph the simulated samples as a histogram:\n",
        "\n"
      ],
      "metadata": {
        "id": "6lhklnbMV4qY"
      }
    },
    {
      "cell_type": "code",
      "source": [
        "cirq.vis.plot_state_histogram(samples, plt.subplot())\n",
        "plt.show()"
      ],
      "metadata": {
        "id": "z85ZHGkEXE05"
      },
      "execution_count": null,
      "outputs": []
    },
    {
      "cell_type": "markdown",
      "source": [
        "However, this histogram has some empty qubit states, which may become problematic if you work with more qubits. To graph sparse sampled data, first get the Counts from your results with its histogram() function, and pass that to cirq.plot_state_histogram. By collecting the results into counts, all the qubit states that were never seen are ignored."
      ],
      "metadata": {
        "id": "jLT3p8BFXCFS"
      }
    },
    {
      "cell_type": "code",
      "source": [
        "# Pull of histogram counts from the result data structure\n",
        "counts = samples.histogram(key='result')\n",
        "print(counts)"
      ],
      "metadata": {
        "id": "h38FCjQtWy9g"
      },
      "execution_count": null,
      "outputs": []
    },
    {
      "cell_type": "code",
      "source": [
        "# Graph the histogram counts instead of the results\n",
        "cirq.vis.plot_state_histogram(counts, plt.subplot())\n",
        "plt.show()"
      ],
      "metadata": {
        "id": "1rlul2rFWsuS"
      },
      "execution_count": null,
      "outputs": []
    },
    {
      "cell_type": "markdown",
      "source": [
        "A histogram over the states that were actually observed can often be more useful when analyzing results. To learn more about the available options for creating result histograms, see the [State Histograms](https://quantumai.google/cirq/simulate/state_histograms) page.\n",
        "\n"
      ],
      "metadata": {
        "id": "tzU1lPBfbSGw"
      }
    },
    {
      "cell_type": "code",
      "source": [
        "def binary_labels(num_qubits):\n",
        "    return [bin(x)[2:].zfill(num_qubits) for x in range(2 ** num_qubits)]\n",
        "\n",
        "q = cirq.LineQubit.range(3)\n",
        "circuit = cirq.Circuit([cirq.H.on_each(*q), cirq.measure(*q)])\n",
        "result = cirq.Simulator().run(circuit, repetitions=100)\n",
        "_ = cirq.vis.plot_state_histogram(result, plt.subplot(), title = 'My Quantum Experiment', xlabel = 'Custom X-Axis Label', ylabel = 'Custom Y-Axis Label', tick_label=binary_labels(3))\n",
        "plt.show()"
      ],
      "metadata": {
        "id": "K0BCE53pcEna"
      },
      "execution_count": null,
      "outputs": []
    },
    {
      "cell_type": "markdown",
      "source": [
        "###### *Using Parameter Sweeps*"
      ],
      "metadata": {
        "id": "87jR0g2Hc57n"
      }
    },
    {
      "cell_type": "markdown",
      "source": [
        "Cirq circuits allow for gates to have symbols as free parameters within the circuit. This is especially useful for variational algorithms, which vary parameters within the circuit in order to optimize a cost function, but it can be useful in a variety of circumstances.\n",
        "\n",
        "For parameters, Cirq uses the library sympy to add sympy.Symbol as parameters to gates and operations.\n",
        "\n",
        "Once the circuit is complete, you can fill in the possible values of each of these parameters with a Sweep. There are several possibilities that can be used as a sweep:\n",
        "\n",
        "* [**cirq.Points**](https://quantumai.google/reference/python/cirq/Points): A list of manually specified values for one specific symbol as a sequence of floats.\n",
        "* [**cirq.Linspace**](https://quantumai.google/reference/python/cirq/Linspace): A linear sweep from a starting value to an ending value.\n",
        "* [**cirq.ListSweep**](https://quantumai.google/reference/python/cirq/ListSweep): A list of manually specified values for several different symbols, specified as a list of dictionaries.\n",
        "* [**cirq.Zip**](https://quantumai.google/reference/python/cirq/Zip) and [**cirq.Product**](https://quantumai.google/reference/python/cirq/Product): Sweeps can be combined list-wise by zipping them together or through their Cartesian product.\n",
        "\n",
        "A parameterized circuit and sweep together can be run using the simulator or other sampler by changing run() to run_sweep() and adding the sweep as a parameter.\n",
        "\n",
        "Here is an example of sweeping an exponent of a X gate:"
      ],
      "metadata": {
        "id": "0YQnebsuc_DT"
      }
    },
    {
      "cell_type": "code",
      "source": [
        "# Perform an X gate with variable exponent\n",
        "q = cirq.GridQubit(1, 1)\n",
        "circuit = cirq.Circuit(cirq.X(q) ** sympy.Symbol('t'), cirq.measure(q, key='m'))\n",
        "\n",
        "# Sweep exponent from zero (off) to one (on) and back to two (off)\n",
        "param_sweep = cirq.Linspace('t', start=0, stop=2, length=200)\n",
        "\n",
        "# Simulate the sweep\n",
        "s = cirq.Simulator()\n",
        "trials = s.run_sweep(circuit, param_sweep, repetitions=1000)\n",
        "\n",
        "# Plot all the results\n",
        "x_data = [trial.params['t'] for trial in trials]\n",
        "y_data = [trial.histogram(key='m')[1] / 1000.0 for trial in trials]\n",
        "plt.scatter('t', 'p', data={'t': x_data, 'p': y_data})\n",
        "plt.xlabel(\"trials\")\n",
        "plt.ylabel(\"frequency of qubit measured to be one\")\n",
        "plt.show()"
      ],
      "metadata": {
        "id": "n7aCFGYXdVTe"
      },
      "execution_count": null,
      "outputs": []
    },
    {
      "cell_type": "markdown",
      "source": [
        "###### *Decompositions*"
      ],
      "metadata": {
        "id": "6nbSKxnqeNOY"
      }
    },
    {
      "cell_type": "markdown",
      "source": [
        "Many gates can be decomposed into an equivalent circuit with simpler operations and gates. This is called decomposition and can be accomplished with the [cirq.decompose](https://quantumai.google/reference/python/cirq/decompose) protocol.\n",
        "\n",
        "For instance, a Hadamard H gate can be decomposed into X and Y gates:"
      ],
      "metadata": {
        "id": "vrB_xyUReRU5"
      }
    },
    {
      "cell_type": "code",
      "source": [
        "print(cirq.decompose(cirq.H(cirq.LineQubit(0))))"
      ],
      "metadata": {
        "id": "lUHHiGakeV2S"
      },
      "execution_count": null,
      "outputs": []
    },
    {
      "cell_type": "markdown",
      "source": [
        "Another example is the 3-qubit Toffoli gate, which is equivalent to a controlled-controlled-X gate. Many devices do not support three qubit gates, so it is important to decompose them into one and two qubit gates."
      ],
      "metadata": {
        "id": "FGj_webgeYT5"
      }
    },
    {
      "cell_type": "code",
      "source": [
        "q0, q1, q2 = cirq.LineQubit.range(3)\n",
        "print(cirq.Circuit(cirq.decompose(cirq.TOFFOLI(q0, q1, q2))))"
      ],
      "metadata": {
        "id": "hrQsjTfveaEt"
      },
      "execution_count": null,
      "outputs": []
    },
    {
      "cell_type": "markdown",
      "source": [
        "The above decomposes the Toffoli into a simpler set of one-qubit gates and two-qubit CZ gates at the cost of lengthening the circuit considerably.\n",
        "\n"
      ],
      "metadata": {
        "id": "JknFGQUCedo5"
      }
    },
    {
      "cell_type": "markdown",
      "source": [
        "###### *Example: Quantum Fourier Transform*"
      ],
      "metadata": {
        "id": "zHsuCH4RKwnu"
      }
    },
    {
      "cell_type": "markdown",
      "source": [
        "* <font color=\"blue\">$e^{2\\pi i}$ = 1</font> (identity operation), and see why $e^{\\pi i}$ = -1\n",
        "\n",
        "* In QFT we change the <font color=\"blue\">$\\theta$ = phase in $e^{2\\pi i \\theta}$</font> = Eigenvalue of Oracle function $U$ associated with an eigenvector |u⟩\n",
        "\n",
        "* The phase $\\theta$ is expressed as: <font color=\"blue\">$\\theta$ = $\\frac{x_n}{2^{k_n}}$</font> with:\n",
        "\n",
        "  * <font color=\"blue\">$x_n$ = 0 or 1</font> state\n",
        "  \n",
        "  * <font color=\"blue\">$k_n$</font> number of Qubits\n",
        "\n",
        "* This is expressed in a so-called \"controlled-R quantum gate\" that **applies a relative phase change to |1>**\n",
        "\n",
        "* The matrix form of this operator is: <font color=\"blue\">$\\hat{R}_{k}=\\left(\\begin{array}{cc}1 & 0 \\\\ 0 & e^{2 \\pi i \\frac{x_n}{ 2^{k_n}}}\\end{array}\\right)$</font>"
      ],
      "metadata": {
        "id": "ZO1Ppm1DPLqA"
      }
    },
    {
      "cell_type": "markdown",
      "source": [
        "**Circuit Construction**\n",
        "\n",
        "*Compare the equations above with the circuit activations below (how a circuits computes the results). For example for the first qubit the operator / gate $S$ = 90° rotation is only activated if the second qubit $x_2$ is in state 1. Here it is not activated because $x_2$ = 0:*\n",
        "\n",
        "![ggg](https://raw.githubusercontent.com/deltorobarba/repo/master/sciences_0812.png)"
      ],
      "metadata": {
        "id": "crkXPurVPh3L"
      }
    },
    {
      "cell_type": "markdown",
      "source": [
        "*Quantum Fourier Transform with 3 Qubits for $|001\\rangle$*\n",
        "\n",
        "**Computational Basis in $|001\\rangle$**\n",
        "\n",
        "![ggg](https://raw.githubusercontent.com/deltorobarba/repo/master/sciences_0804.png)\n",
        "\n",
        "**Fourier Basis for $|001\\rangle$**\n",
        "\n",
        "![ggg](https://raw.githubusercontent.com/deltorobarba/repo/master/sciences_0805.png)\n",
        "\n",
        "**Computational States:** <font color=\"blue\">$\\tilde{x_1}$ = 0</font>, <font color=\"blue\">$\\tilde{x_2}$ = 0</font>, <font color=\"blue\">$\\tilde{x_3}$ = 1</font>. Number of Qubits: <font color=\"blue\">$k_1$ = 1 qubit, $k_2$ = 2 qubits, $k_3$ = 3 qubits</font>\n",
        "\n",
        "> <font color=\"blue\">Qubit 1 = $\\tilde{x_1}$</font> = $\\frac{1}{\\sqrt{2}}\\left(|0\\rangle+\\mathrm{e}^{2 \\pi \\mathrm{i}\\left(\\frac{\\mathrm{x}_{1}}{2^{k_1}}+\\frac{x_{2}}{2^{k_2}}+\\frac{x_{3}}{2^{k_3}}\\right)}|1\\rangle\\right)$ = $\\frac{1}{\\sqrt{2}}\\left(|0\\rangle+\\mathrm{e}^{2 \\pi \\mathrm{i}\\left(\\frac{0}{2}+\\frac{0}{4}+\\frac{1}{8}\\right)}|1\\rangle\\right)$  = <font color=\"blue\">$\\frac{\\pi i}{4}$</font> (45° T-rotation)\n",
        "\n",
        "> <font color=\"blue\">Qubit 2 = $\\tilde{x_2}$</font> = $\\frac{1}{\\sqrt{2}}\\left(|0\\rangle+\\mathrm{e}^{2 \\pi \\mathrm{i}\\left(\\frac{\\mathrm{x}_{2}}{2^{k_1}}+\\frac{x_{3}}{2^{k_2}}\\right)}|1\\rangle\\right)$ = $\\frac{1}{\\sqrt{2}}\\left(|0\\rangle+\\mathrm{e}^{2 \\pi \\mathrm{i}\\left(\\frac{0}{2}+\\frac{1}{4}\\right)}|1\\rangle\\right)$ = <font color=\"blue\">$\\frac{\\pi i}{2}$</font> (90° S-rotation)\n",
        "\n",
        "> <font color=\"blue\">Qubit 3 = $\\tilde{x_3}$</font> = $\\frac{1}{\\sqrt{2}}\\left(|0\\rangle+\\mathrm{e}^{2 \\pi \\mathrm{i}\\left(\\frac{\\mathrm{x}_{3}}{2^{k_1}}\\right)}|1\\rangle\\right)$ = $\\frac{1}{\\sqrt{2}}\\left(|0\\rangle+\\mathrm{e}^{2 \\pi \\mathrm{i} \\frac{1}{2}}|1\\rangle\\right)$ = $e^{\\pi i 1} =$ <font color=\"blue\">$-1$</font> (180° Z-rotation)"
      ],
      "metadata": {
        "id": "6cEcptE0PflN"
      }
    },
    {
      "cell_type": "markdown",
      "source": [
        "*Example: Quantum Fourier Transform with 3 Qubits: Introduction*\n",
        "\n",
        "**Computational Basis States:** <font color=\"blue\">$\\tilde{x_1}$ = 0 or 1</font>, <font color=\"blue\">$\\tilde{x_2}$ = 0 or 1</font>, <font color=\"blue\">$\\tilde{x_3}$ = 0 or 1</font>. Number of Qubits: <font color=\"blue\">$k_1$ = 1, $k_2$ = 2, $k_3$ = 3</font>\n",
        "\n",
        "> <font color=\"blue\">$\\tilde{x_1}$ = $\\frac{1}{\\sqrt{2}}\\left(|0\\rangle+\\mathrm{e}^{2 \\pi \\mathrm{i}\\left(\\frac{\\mathrm{x}_{1}}{2^{k_1}}+\\frac{x_{2}}{2^{k_2}}+\\frac{x_{3}}{2^{k_3}}\\right)}|1\\rangle\\right)$</font> = $\\frac{1}{\\sqrt{2}}\\left(|0\\rangle+\\mathrm{e}^{2 \\pi \\mathrm{i}\\left(\\frac{\\mathrm{x}_{1}}{2^1}+\\frac{x_{2}}{2^2}+\\frac{x_{3}}{2^3}\\right)}|1\\rangle\\right)$  = $\\frac{1}{\\sqrt{2}}\\left(|0\\rangle+\\mathrm{e}^{2 \\pi \\mathrm{i}\\left(\\frac{\\mathrm{x}_{1}}{2}+\\frac{x_{2}}{4}+\\frac{x_{3}}{8}\\right)}|1\\rangle\\right)$\n",
        "\n",
        "* If only $\\tilde{x_1}$ is activated, then it is a 180° Z-rotation of $\\pi$ radians = -1\n",
        "\n",
        "* If only $\\tilde{x_2}$ is activated, then it is a 90° S-rotation of $\\frac{\\pi}{2}$ radians = i\n",
        "\n",
        "* If only $\\tilde{x_3}$ is activated, then it is a 45° T-rotation of $\\frac{\\pi}{4}$ radians = between 1 and i\n",
        "\n",
        "> <font color=\"blue\">$\\tilde{x_2}$ = $\\frac{1}{\\sqrt{2}}\\left(|0\\rangle+\\mathrm{e}^{2 \\pi \\mathrm{i}\\left(\\frac{x_2}{2^{k_1}}+\\frac{x_3}{2^{k_2}}\\right)}|1\\rangle\\right)$</font> = $\\frac{1}{\\sqrt{2}}\\left(|0\\rangle+\\mathrm{e}^{2 \\pi \\mathrm{i}\\left(\\frac{x_2}{2^1}+\\frac{x_3}{2^2}\\right)}|1\\rangle\\right)$ = $\\frac{1}{\\sqrt{2}}\\left(|0\\rangle+\\mathrm{e}^{2 \\pi \\mathrm{i}\\left(\\frac{x_2}{2}+\\frac{x_3}{4}\\right)}|1\\rangle\\right)$\n",
        "\n",
        "* If only $\\tilde{x_2}$ is activated, then it is a 180° Z-rotation of $\\pi$ radians = -1\n",
        "\n",
        "* If only $\\tilde{x_3}$ is activated, then it is a 90° S-rotation of $\\frac{\\pi}{2}$ radians = i\n",
        "\n",
        "* If both $\\tilde{x_2}$ and $\\tilde{x_3}$ are activated, then it is a 180° + 90° = 170° rotation of $\\pi + \\frac{\\pi}{2}$ radians = -i\n",
        "\n",
        "> <font color=\"blue\">$\\tilde{x_3}$ = $\\frac{1}{\\sqrt{2}}\\left(|0\\rangle+\\mathrm{e}^{2 \\pi \\mathrm{i}\\left(\\frac{x_3}{2^{k_1}}\\right)}|1\\rangle\\right)$</font> = $\\frac{1}{\\sqrt{2}}\\left(|0\\rangle+\\mathrm{e}^{2 \\pi \\mathrm{i}\\left(\\frac{x_3}{2^1}\\right)}|1\\rangle\\right)$ = $\\frac{1}{\\sqrt{2}}\\left(|0\\rangle+\\mathrm{e}^{\\pi \\mathrm{i}x_3}|1\\rangle\\right)$\n",
        "\n",
        "* If $\\tilde{x_3}$ is activated, then it is a 180° Z-rotation of $\\pi$ radians = -1\n"
      ],
      "metadata": {
        "id": "l_mnj_byPPRj"
      }
    },
    {
      "cell_type": "code",
      "source": [
        "def make_qft(qubits):\n",
        "\n",
        "    # Generate list of qubits\n",
        "    qreg = list(qubits)\n",
        "    \n",
        "    # Make sure list is longer than 0 qubits:\n",
        "    while len(qreg) > 0:\n",
        "    \n",
        "    # Remove first qubit from list and return its value (set as head-qubit):\n",
        "        q_head = qreg.pop(0)\n",
        "    \n",
        "    # Apply Hadamard superposition to this head-qubit\n",
        "        yield cirq.H(q_head)\n",
        "\n",
        "    # Enumerate through list with i (index position) and corresponding qubit value (0 or 1)\n",
        "        for i, qubit in enumerate(qreg):\n",
        "\n",
        "    # Apply Controlled-Z * Theta-Phase-Shift on target ('q-head') if control-qubit ('qubit') is in state 1\n",
        "            yield (cirq.CZ ** (1 / 2 ** (i + 1)))(qubit, q_head)\n",
        "\n",
        "    # Iterating through until \"while len(qreg) = 0\", then processes stops\n",
        "\n",
        "\"\"\"Visually check the QFT circuit.\"\"\"\n",
        "qubits = cirq.LineQubit.range(17)\n",
        "qft = cirq.Circuit(make_qft(qubits))\n",
        "print(qft)"
      ],
      "metadata": {
        "id": "-vgG0wEgK0ef"
      },
      "execution_count": null,
      "outputs": []
    },
    {
      "cell_type": "code",
      "source": [
        "def make_qft_inverse(qubits):\n",
        "    \"\"\"Generator for the inverse QFT on a list of qubits.\"\"\"\n",
        "    qreg = list(qubits)[::-1]\n",
        "    while len(qreg) > 0:\n",
        "        q_head = qreg.pop(0)\n",
        "        yield cirq.H(q_head)\n",
        "        for i, qubit in enumerate(qreg):\n",
        "            yield (cirq.CZ ** (-1 / 2 ** (i + 1)))(qubit, q_head)\n",
        "\n",
        "# Syntax explanation for list(qubits)[::-1]: list[<start>:<stop>:<step>]\n",
        "# So, when you do a[::-1], it starts from the end towards the first taking each element. \n",
        "# So it reverses a. This is applicable for lists/tuples as well.\n",
        "# Example: >>> a = '1234' >>> a[::-1] will get you: '4321'\n",
        "\n",
        "\"\"\"Build the last part of the circuit (inverse QFT) for phase estimation.\"\"\"\n",
        "\n",
        "# Do the inverse QFT as subroutine in quantum phase estimation\n",
        "phase_estimator.append(make_qft_inverse(qubits[::-1]))"
      ],
      "metadata": {
        "id": "FUmcAGhmLIUR"
      },
      "execution_count": null,
      "outputs": []
    },
    {
      "cell_type": "markdown",
      "source": [
        "https://quantumai.google/cirq/experiments/textbook_algorithms#quantum_fourier_transform"
      ],
      "metadata": {
        "id": "k4W_TZ56LcdF"
      }
    },
    {
      "cell_type": "markdown",
      "source": [
        "###### *Quantum Phase Estimation*"
      ],
      "metadata": {
        "id": "t7gpoYKzL83s"
      }
    },
    {
      "cell_type": "markdown",
      "source": [
        "**Quantum phase estimation addresses the following problem:**\n",
        "\n",
        "* We have a $n$-qubit oracle function $U$, encoded in the form of a controlled- $U$ unitary.\n",
        "\n",
        "* $U$ has an eigenvalue $e^{2 \\pi i \\phi}$, associated with an eigenvector $|u\\rangle$ which we can prepare.\n",
        "\n",
        "> <font color=\"red\">**We wish to estimate the phase, $\\phi$, of the eigenvalue to $t$ bits of precision.**\n",
        "\n",
        "> <font color=\"blue\">**Given a unitary operator $U$, the algorithm estimates $\\theta$ in $U|\\psi\\rangle=e^{2 \\pi i \\theta}|\\psi\\rangle$** $\\quad$ (based on Eigenvalue equation)</font>\n",
        "\n",
        "* Here $|\\psi\\rangle$ is an eigenvector / eigenstate and $e^{2 \\pi i \\theta}$ is the corresponding eigenvalue. \n"
      ],
      "metadata": {
        "id": "lHWEuNdTQBN3"
      }
    },
    {
      "cell_type": "markdown",
      "source": [
        "As an application of our quantum Fourier transform circuit, we'll implement the phase estimation algorithm. The phase estimation algorithm estimates the eigenvalues of a unitary operator and uses the inverse QFT as a subroutine. The total circuit that we are going to implement is shown below.\n",
        "\n"
      ],
      "metadata": {
        "id": "LFiVTHsOOa27"
      }
    },
    {
      "cell_type": "code",
      "source": [
        "\"\"\"Set up the unitary and number of bits to use in phase estimation.\"\"\"\n",
        "# Value of θ which appears in the definition of the unitary U above.\n",
        "# Try different values.\n",
        "theta = 0.234\n",
        "\n",
        "# Define the unitary U.\n",
        "U = cirq.Z ** (2 * theta)\n",
        "\n",
        "# Accuracy of the estimate for theta. Try different values.\n",
        "n_bits = 3"
      ],
      "metadata": {
        "id": "wTnI6wltMHYh"
      },
      "execution_count": null,
      "outputs": []
    },
    {
      "cell_type": "code",
      "source": [
        "\"\"\"Build the first part of the circuit for phase estimation.\"\"\"\n",
        "# Get qubits for the phase estimation circuit.\n",
        "qubits = cirq.LineQubit.range(n_bits)\n",
        "u_bit = cirq.NamedQubit('u')\n",
        "\n",
        "# Build the first part of the phase estimation circuit.\n",
        "phase_estimator = cirq.Circuit(cirq.H.on_each(*qubits))\n",
        "\n",
        "for i, bit in enumerate(qubits):\n",
        "    phase_estimator.append(cirq.ControlledGate(U).on(bit, u_bit) ** (2 ** (n_bits - i - 1)))\n",
        "\n",
        "print(phase_estimator)"
      ],
      "metadata": {
        "id": "nTZClxlnMJAs"
      },
      "execution_count": null,
      "outputs": []
    },
    {
      "cell_type": "code",
      "source": [
        "\"\"\"Build the last part of the circuit (inverse QFT) for phase estimation.\"\"\"\n",
        "# Do the inverse QFT.\n",
        "phase_estimator.append(make_qft_inverse(qubits[::-1]))\n",
        "\n",
        "# Add measurements to the end of the circuit\n",
        "phase_estimator.append(cirq.measure(*qubits, key='m'))\n",
        "print(phase_estimator)"
      ],
      "metadata": {
        "id": "crc6DOSMMLAT"
      },
      "execution_count": null,
      "outputs": []
    },
    {
      "cell_type": "code",
      "source": [
        "\"\"\"Set the input state of the eigenvalue register.\"\"\"\n",
        "# Add gate to change initial state to |1>.\n",
        "phase_estimator.insert(0, cirq.X(u_bit))\n",
        "\n",
        "print(phase_estimator)"
      ],
      "metadata": {
        "id": "h_qXypDOMN9n"
      },
      "execution_count": null,
      "outputs": []
    },
    {
      "cell_type": "code",
      "source": [
        "\"\"\"Simulate the circuit and convert from measured bit values to estimated θ values.\"\"\"\n",
        "# Simulate the circuit.\n",
        "sim = cirq.Simulator()\n",
        "result = sim.run(phase_estimator, repetitions=10)\n",
        "\n",
        "# Convert from output bitstrings to estimate θ values.\n",
        "theta_estimates = np.sum(2 ** np.arange(n_bits) * result.measurements['m'], axis=1) / 2**n_bits\n",
        "print(theta_estimates)"
      ],
      "metadata": {
        "id": "-CL6ZAWvMT8O"
      },
      "execution_count": null,
      "outputs": []
    },
    {
      "cell_type": "markdown",
      "source": [
        "Real value theta = 0.234"
      ],
      "metadata": {
        "id": "XZOMGSKPOOJ8"
      }
    },
    {
      "cell_type": "markdown",
      "source": [
        "Complete example: Here is a solution that just consists of what we did in previous cells all put together.\n",
        "\n"
      ],
      "metadata": {
        "id": "NSI7rqQXMVW0"
      }
    },
    {
      "cell_type": "code",
      "source": [
        "def phase_estimation(theta, n_bits, n_reps=10, prepare_eigenstate_gate=cirq.X):\n",
        "    # Define qubit registers.\n",
        "    qubits = cirq.LineQubit.range(n_bits)\n",
        "    u_bit = cirq.NamedQubit('u')\n",
        "\n",
        "    # Define the unitary U.\n",
        "    U = cirq.Z ** (2 * theta)\n",
        "\n",
        "    # Start with Hadamards on every qubit.\n",
        "    phase_estimator = cirq.Circuit(cirq.H.on_each(*qubits))\n",
        "\n",
        "    # Do the controlled powers of the unitary U.\n",
        "    for i, bit in enumerate(qubits):\n",
        "        phase_estimator.append(cirq.ControlledGate(U).on(bit, u_bit) ** (2 ** (n_bits - 1 - i)))\n",
        "\n",
        "    # Do the inverse QFT.\n",
        "    phase_estimator.append(make_qft_inverse(qubits[::-1]))\n",
        "\n",
        "    # Add measurements.\n",
        "    phase_estimator.append(cirq.measure(*qubits, key='m'))\n",
        "\n",
        "    # Gate to choose the initial state for the u_bit. Placing X here chooses the |1> state.\n",
        "    phase_estimator.insert(0, prepare_eigenstate_gate.on(u_bit))\n",
        "\n",
        "    # Code to simulate measurements\n",
        "    sim = cirq.Simulator()\n",
        "    result = sim.run(phase_estimator, repetitions=n_reps)\n",
        "\n",
        "    # Convert measurements into estimates of theta\n",
        "    theta_estimates = np.sum(2**np.arange(n_bits)*result.measurements['m'], axis=1)/2**n_bits\n",
        "\n",
        "    return theta_estimates"
      ],
      "metadata": {
        "id": "d8aZfzVdLrMZ"
      },
      "execution_count": null,
      "outputs": []
    },
    {
      "cell_type": "markdown",
      "source": [
        "Now we can easily examine the accuracy of the estimate vs n_bits. We do so for a variety of values for n_bits in the following cell.\n",
        "\n"
      ],
      "metadata": {
        "id": "OPAkHytXNLEo"
      }
    },
    {
      "cell_type": "code",
      "source": [
        "\"\"\"Analyze convergence vs n_bits.\"\"\"\n",
        "# Set the value of theta. Try different values.\n",
        "theta = 0.123456\n",
        "\n",
        "max_nvals = 16\n",
        "nvals = np.arange(1, max_nvals, step=1)\n",
        "\n",
        "# Get the estimates at each value of n.\n",
        "estimates = []\n",
        "for n in nvals:\n",
        "    estimate = phase_estimation(theta=theta, n_bits=n, n_reps=1)[0]\n",
        "    estimates.append(estimate)"
      ],
      "metadata": {
        "id": "7YEVircbM1My"
      },
      "execution_count": null,
      "outputs": []
    },
    {
      "cell_type": "markdown",
      "source": [
        "And now we make a plot of the $\\theta$ estimates vs. the number of bits."
      ],
      "metadata": {
        "id": "p60x2-R8NNof"
      }
    },
    {
      "cell_type": "code",
      "source": [
        "\"\"\"Plot the results.\"\"\"\n",
        "plt.style.use(\"seaborn-whitegrid\")\n",
        "\n",
        "plt.plot(nvals, estimates, \"--o\", label=\"Phase estimation\")\n",
        "plt.axhline(theta, label=\"True value\", color=\"black\")\n",
        "\n",
        "plt.legend()\n",
        "plt.xlabel(\"Number of bits\")\n",
        "plt.ylabel(r\"$\\theta$\");"
      ],
      "metadata": {
        "id": "h-EuBBbfMv_g"
      },
      "execution_count": null,
      "outputs": []
    },
    {
      "cell_type": "markdown",
      "source": [
        "https://quantumai.google/cirq/experiments/textbook_algorithms#phase_estimation"
      ],
      "metadata": {
        "id": "dTDpmPt3LpLH"
      }
    },
    {
      "cell_type": "markdown",
      "metadata": {
        "id": "RVZO1oCK5-_F"
      },
      "source": [
        "#### **Part 2: Quantum Machine Learning with <font color=\"blue\">TensorFlow Quantum**"
      ]
    },
    {
      "cell_type": "markdown",
      "metadata": {
        "id": "j6331ZSsQGY3"
      },
      "source": [
        "##### ***Use Case 1: Hello, many worlds***"
      ]
    },
    {
      "cell_type": "markdown",
      "metadata": {
        "id": "b08Mmbs8lr81"
      },
      "source": [
        "###### *Cirq Basics Review*"
      ]
    },
    {
      "cell_type": "markdown",
      "metadata": {
        "id": "6tYn2HaAUgH0"
      },
      "source": [
        "[This tutorial](https://www.tensorflow.org/quantum/tutorials/hello_many_worlds) shows how a classical neural network can learn to correct qubit calibration errors. It introduces <a target=\"_blank\" href=\"https://github.com/quantumlib/Cirq\" class=\"external\">Cirq</a>, a Python framework to create, edit, and invoke Noisy Intermediate Scale Quantum (NISQ) circuits, and demonstrates how Cirq interfaces with TensorFlow Quantum."
      ]
    },
    {
      "cell_type": "markdown",
      "metadata": {
        "id": "y31qSRCczI-L"
      },
      "source": [
        "**Cirq and parameterized quantum circuits**\n",
        "\n",
        "Before exploring TensorFlow Quantum (TFQ), let's look at some <a target=\"_blank\" href=\"https://github.com/quantumlib/Cirq\" class=\"external\">Cirq</a> basics. Cirq is a Python library for quantum computing from Google. You use it to define circuits, including static and parameterized gates.\n",
        "\n",
        "Cirq uses <a target=\"_blank\" href=\"https://www.sympy.org\" class=\"external\">SymPy</a> symbols to represent free parameters."
      ]
    },
    {
      "cell_type": "code",
      "execution_count": null,
      "metadata": {
        "id": "2yQdmhQLCrzQ"
      },
      "outputs": [],
      "source": [
        "a, b = sympy.symbols('a b')"
      ]
    },
    {
      "cell_type": "markdown",
      "metadata": {
        "id": "itUlpbKmDYNW"
      },
      "source": [
        "The following code creates a two-qubit circuit using your parameters:"
      ]
    },
    {
      "cell_type": "code",
      "execution_count": null,
      "metadata": {
        "id": "Ps-pd2mndXs7"
      },
      "outputs": [],
      "source": [
        "# Create two qubits\n",
        "q0, q1 = cirq.GridQubit.rect(1, 2)\n",
        "\n",
        "# Create a circuit on these qubits using the parameters you created above.\n",
        "circuit = cirq.Circuit(\n",
        "    cirq.rx(a).on(q0),\n",
        "    cirq.ry(b).on(q1), cirq.CNOT(control=q0, target=q1))\n",
        "\n",
        "SVGCircuit(circuit)"
      ]
    },
    {
      "cell_type": "markdown",
      "metadata": {
        "id": "zcCX109cJUaz"
      },
      "source": [
        "To evaluate circuits, you can use the `cirq.Simulator` interface. You replace free parameters in a circuit with specific numbers by passing in a `cirq.ParamResolver` object. The following code calculates the raw state vector output of your parameterized circuit:"
      ]
    },
    {
      "cell_type": "code",
      "execution_count": null,
      "metadata": {
        "id": "VMq7EayNRyQb"
      },
      "outputs": [],
      "source": [
        "# Calculate a state vector with a=0.5 and b=-0.5.\n",
        "resolver = cirq.ParamResolver({a: 0.5, b: -0.5})\n",
        "output_state_vector = cirq.Simulator().simulate(circuit, resolver).final_state_vector\n",
        "output_state_vector"
      ]
    },
    {
      "cell_type": "markdown",
      "metadata": {
        "id": "-SUlLpXBeicF"
      },
      "source": [
        "State vectors are not directly accessible outside of simulation (notice the complex numbers in the output above). To be physically realistic, you must specify a measurement, which converts a state vector into a real number that classical computers can understand. Cirq specifies measurements using combinations of the <a target=\"_blank\" href=\"https://en.wikipedia.org/wiki/Pauli_matrices\" class=\"external\">Pauli operators</a> $\\hat{X}$, $\\hat{Y}$, and $\\hat{Z}$. As illustration, the following code measures $\\hat{Z}_0$ and $\\frac{1}{2}\\hat{Z}_0 + \\hat{X}_1$ on the state vector you just simulated:"
      ]
    },
    {
      "cell_type": "code",
      "execution_count": null,
      "metadata": {
        "id": "hrSnOCi3ehr_",
        "scrolled": true
      },
      "outputs": [],
      "source": [
        "z0 = cirq.Z(q0)\n",
        "\n",
        "qubit_map={q0: 0, q1: 1}\n",
        "\n",
        "z0.expectation_from_state_vector(output_state_vector, qubit_map).real"
      ]
    },
    {
      "cell_type": "code",
      "execution_count": null,
      "metadata": {
        "id": "OZ0lWFXv6pII"
      },
      "outputs": [],
      "source": [
        "z0x1 = 0.5 * z0 + cirq.X(q1)\n",
        "\n",
        "z0x1.expectation_from_state_vector(output_state_vector, qubit_map).real"
      ]
    },
    {
      "cell_type": "markdown",
      "source": [
        "###### *Quantum circuits as tensors*"
      ],
      "metadata": {
        "id": "LJpbriqLqdFG"
      }
    },
    {
      "cell_type": "markdown",
      "metadata": {
        "id": "bkC-yjIolDNr"
      },
      "source": [
        "TensorFlow Quantum (TFQ) provides `tfq.convert_to_tensor`, a function that converts Cirq objects into tensors. This allows you to send Cirq objects to our <a target=\"_blank\" href=\"https://www.tensorflow.org/quantum/api_docs/python/tfq/layers\">quantum layers</a> and <a target=\"_blank\" href=\"https://www.tensorflow.org/quantum/api_docs/python/tfq/get_expectation_op\">quantum ops</a>. The function can be called on lists or arrays of Cirq Circuits and Cirq Paulis:"
      ]
    },
    {
      "cell_type": "code",
      "execution_count": null,
      "metadata": {
        "id": "1gLQjA02mIyy",
        "scrolled": true
      },
      "outputs": [],
      "source": [
        "# Rank 1 tensor containing 1 circuit.\n",
        "circuit_tensor = tfq.convert_to_tensor([circuit])\n",
        "\n",
        "print(circuit_tensor.shape)\n",
        "print(circuit_tensor.dtype)"
      ]
    },
    {
      "cell_type": "markdown",
      "metadata": {
        "id": "SJy6AkbU6pIP"
      },
      "source": [
        "This encodes the Cirq objects as `tf.string` tensors that `tfq` operations decode as needed."
      ]
    },
    {
      "cell_type": "code",
      "execution_count": null,
      "metadata": {
        "id": "aX_vEmCKmpQS"
      },
      "outputs": [],
      "source": [
        "# Rank 1 tensor containing 2 Pauli operators.\n",
        "pauli_tensor = tfq.convert_to_tensor([z0, z0x1])\n",
        "pauli_tensor.shape"
      ]
    },
    {
      "cell_type": "markdown",
      "source": [
        "###### *Batching circuit simulation*"
      ],
      "metadata": {
        "id": "HkugV3FEqhno"
      }
    },
    {
      "cell_type": "markdown",
      "metadata": {
        "id": "FI1JLWe6m8JF"
      },
      "source": [
        "TFQ provides methods for computing expectation values, samples, and state vectors. For now, let's focus on *expectation values*.\n",
        "\n",
        "The highest-level interface for calculating expectation values is the `tfq.layers.Expectation` layer, which is a `tf.keras.Layer`. \n",
        "\n",
        "In its simplest form, this layer is equivalent to simulating a parameterized circuit over many `cirq.ParamResolvers`; however, TFQ allows batching following TensorFlow semantics, and circuits are simulated using efficient C++ code."
      ]
    },
    {
      "cell_type": "markdown",
      "source": [
        "Create a batch of values to substitute for our `a` and `b` parameters:"
      ],
      "metadata": {
        "id": "jWs_UEUYtZj_"
      }
    },
    {
      "cell_type": "code",
      "execution_count": null,
      "metadata": {
        "id": "1fsVZhF5lIXp"
      },
      "outputs": [],
      "source": [
        "batch_vals = np.array(np.random.uniform(0, 2 * np.pi, (5, 2)), dtype=np.float32)"
      ]
    },
    {
      "cell_type": "markdown",
      "metadata": {
        "id": "Ip7jlGXIf22u"
      },
      "source": [
        "Batching circuit execution over parameter values in Cirq requires a loop:"
      ]
    },
    {
      "cell_type": "code",
      "execution_count": null,
      "metadata": {
        "id": "RsfF53UCJtr9"
      },
      "outputs": [],
      "source": [
        "cirq_results = []\n",
        "cirq_simulator = cirq.Simulator()\n",
        "\n",
        "for vals in batch_vals:\n",
        "    resolver = cirq.ParamResolver({a: vals[0], b: vals[1]})\n",
        "    final_state_vector = cirq_simulator.simulate(circuit, resolver).final_state_vector\n",
        "    cirq_results.append(\n",
        "        [z0.expectation_from_state_vector(final_state_vector, {\n",
        "            q0: 0,\n",
        "            q1: 1\n",
        "        }).real])\n",
        "\n",
        "print('cirq batch results: \\n {}'.format(np.array(cirq_results)))"
      ]
    },
    {
      "cell_type": "markdown",
      "metadata": {
        "id": "W0JlZEu-f9Ac"
      },
      "source": [
        "The same operation is simplified in TFQ:"
      ]
    },
    {
      "cell_type": "code",
      "execution_count": null,
      "metadata": {
        "id": "kGZVdcZ6y9lC"
      },
      "outputs": [],
      "source": [
        "tfq.layers.Expectation()(circuit,\n",
        "                         symbol_names=[a, b],\n",
        "                         symbol_values=batch_vals,\n",
        "                         operators=z0)"
      ]
    },
    {
      "cell_type": "markdown",
      "source": [
        "###### *Hybrid quantum-classical optimization*"
      ],
      "metadata": {
        "id": "xddXsVooqmPf"
      }
    },
    {
      "cell_type": "markdown",
      "metadata": {
        "id": "wppQ3TJ23mWC"
      },
      "source": [
        "Let's use TensorFlow Quantum to construct a *hybrid quantum-classical neural net*. \n",
        "\n",
        "You will train a classical neural net to control a single qubit. \n",
        "\n",
        "The control will be optimized to correctly prepare the qubit in the `0` or `1` state, overcoming a simulated systematic calibration error. \n",
        "\n",
        "This figure shows the architecture:\n",
        "\n",
        "![ggg](https://www.tensorflow.org/quantum/tutorials/images/nn_control1.png)\n",
        "\n",
        "Even without a neural network this is a straightforward problem to solve, but the theme is similar to the real quantum control problems you might solve using TFQ. It demonstrates an end-to-end example of a quantum-classical computation using the `tfq.layers.ControlledPQC` (Parametrized Quantum Circuit) layer inside of a `tf.keras.Model`."
      ]
    },
    {
      "cell_type": "markdown",
      "metadata": {
        "id": "NlyxF3Q-6pIe"
      },
      "source": [
        "For the implementation of this tutorial, this architecture is split into 3 parts:\n",
        "\n",
        "- The *input circuit* or *datapoint circuit*: The first three $R$ gates.\n",
        "- The *controlled circuit*: The other three $R$ gates.\n",
        "- The *controller*: The classical neural-network setting the parameters of the controlled circuit."
      ]
    },
    {
      "cell_type": "markdown",
      "source": [
        "###### *The controlled circuit definition*"
      ],
      "metadata": {
        "id": "kOssBeVBqp0y"
      }
    },
    {
      "cell_type": "markdown",
      "metadata": {
        "id": "VjDf-nTM6ZSs"
      },
      "source": [
        "\n",
        "\n",
        "Define a learnable single bit rotation, as indicated in the figure above. This will correspond to our controlled circuit."
      ]
    },
    {
      "cell_type": "code",
      "execution_count": null,
      "metadata": {
        "id": "N-j7SCl-51-q"
      },
      "outputs": [],
      "source": [
        "# Parameters that the classical NN will feed values into.\n",
        "control_params = sympy.symbols('theta_1 theta_2 theta_3')\n",
        "\n",
        "# Create the parameterized circuit.\n",
        "qubit = cirq.GridQubit(0, 0)\n",
        "model_circuit = cirq.Circuit(\n",
        "    cirq.rz(control_params[0])(qubit),\n",
        "    cirq.ry(control_params[1])(qubit),\n",
        "    cirq.rx(control_params[2])(qubit))\n",
        "\n",
        "SVGCircuit(model_circuit)"
      ]
    },
    {
      "cell_type": "markdown",
      "source": [
        "https://quantumai.google/reference/python/cirq/rx"
      ],
      "metadata": {
        "id": "nAH__qw55L-p"
      }
    },
    {
      "cell_type": "markdown",
      "source": [
        "###### *The controller*"
      ],
      "metadata": {
        "id": "ozWQO-CTqtYr"
      }
    },
    {
      "cell_type": "markdown",
      "metadata": {
        "id": "wfjSbsvb7g9f"
      },
      "source": [
        "Now define controller network: "
      ]
    },
    {
      "cell_type": "code",
      "execution_count": null,
      "metadata": {
        "id": "1v4CK2jD6pIj"
      },
      "outputs": [],
      "source": [
        "# The classical neural network layers.\n",
        "controller = tf.keras.Sequential([\n",
        "    tf.keras.layers.Dense(10, activation='elu'),\n",
        "    tf.keras.layers.Dense(3)\n",
        "])"
      ]
    },
    {
      "cell_type": "markdown",
      "metadata": {
        "id": "QNimbsAt6pIm"
      },
      "source": [
        "Given a batch of commands, the controller outputs a batch of control signals for the controlled circuit. \n",
        "\n",
        "The controller is randomly initialized so these outputs are not useful, yet."
      ]
    },
    {
      "cell_type": "code",
      "execution_count": null,
      "metadata": {
        "id": "kZbYRTe16pIm"
      },
      "outputs": [],
      "source": [
        "controller(tf.constant([[0.0],[1.0]])).numpy()"
      ]
    },
    {
      "cell_type": "markdown",
      "metadata": {
        "id": "XizLExg56pIp"
      },
      "source": [
        "###### *Connect the controller to the circuit*"
      ]
    },
    {
      "cell_type": "markdown",
      "metadata": {
        "id": "I5Pmy5-V6pIq"
      },
      "source": [
        "Use `tfq` to connect the controller to the controlled circuit, as a single `keras.Model`. \n",
        "\n",
        "See the [Keras Functional API guide](https://www.tensorflow.org/guide/keras/functional) for more about this style of model definition.\n",
        "\n",
        "First define the inputs to the model:  "
      ]
    },
    {
      "cell_type": "code",
      "execution_count": null,
      "metadata": {
        "id": "UfHF8NNE6pIr"
      },
      "outputs": [],
      "source": [
        "# This input is the simulated miscalibration that the model will learn to correct.\n",
        "circuits_input = tf.keras.Input(shape=(),\n",
        "                                # The circuit-tensor has dtype `tf.string` \n",
        "                                dtype=tf.string,\n",
        "                                name='circuits_input')\n",
        "\n",
        "# Commands will be either `0` or `1`, specifying the state to set the qubit to.\n",
        "commands_input = tf.keras.Input(shape=(1,),\n",
        "                                dtype=tf.dtypes.float32,\n",
        "                                name='commands_input')"
      ]
    },
    {
      "cell_type": "markdown",
      "metadata": {
        "id": "y9xN2mNl6pIu"
      },
      "source": [
        "Next apply operations to those inputs, to define the computation."
      ]
    },
    {
      "cell_type": "code",
      "execution_count": null,
      "metadata": {
        "id": "Zvt2YGmZ6pIu"
      },
      "outputs": [],
      "source": [
        "dense_2 = controller(commands_input)\n",
        "\n",
        "# TFQ layer for classically controlled circuits.\n",
        "expectation_layer = tfq.layers.ControlledPQC(model_circuit,\n",
        "                                             # Observe Z\n",
        "                                             operators = cirq.Z(qubit))\n",
        "expectation = expectation_layer([circuits_input, dense_2])"
      ]
    },
    {
      "cell_type": "markdown",
      "metadata": {
        "id": "Ip2jNA9h6pIy"
      },
      "source": [
        "Now package this computation as a `tf.keras.Model`:"
      ]
    },
    {
      "cell_type": "code",
      "execution_count": null,
      "metadata": {
        "id": "Xs6EMhah6pIz"
      },
      "outputs": [],
      "source": [
        "# The full Keras model is built from our layers.\n",
        "model = tf.keras.Model(inputs=[circuits_input, commands_input],\n",
        "                       outputs=expectation)"
      ]
    },
    {
      "cell_type": "markdown",
      "metadata": {
        "id": "w7kgqm3t6pI3"
      },
      "source": [
        "The network architecture is indicated by the plot of the model below.\n",
        "Compare this model plot to the architecture diagram to verify correctness.\n",
        "\n",
        "Note: May require a system install of the `graphviz` package."
      ]
    },
    {
      "cell_type": "code",
      "execution_count": null,
      "metadata": {
        "id": "ERXNPe4F6pI4"
      },
      "outputs": [],
      "source": [
        "tf.keras.utils.plot_model(model, show_shapes=True, dpi=70)"
      ]
    },
    {
      "cell_type": "markdown",
      "metadata": {
        "id": "-Pbemgww6pI7"
      },
      "source": [
        "This model takes two inputs: The commands for the controller, and the input-circuit whose output the controller is attempting to correct. "
      ]
    },
    {
      "cell_type": "markdown",
      "metadata": {
        "id": "hpnIBK916pI8"
      },
      "source": [
        "###### *Dataset*"
      ]
    },
    {
      "cell_type": "markdown",
      "metadata": {
        "id": "yJSC9qH76pJA"
      },
      "source": [
        "The model attempts to output the correct correct measurement value of $\\hat{Z}$ for each command. The commands and correct values are defined below."
      ]
    },
    {
      "cell_type": "code",
      "execution_count": null,
      "metadata": {
        "id": "ciMIJAuH6pJA"
      },
      "outputs": [],
      "source": [
        "# The command input values to the classical NN.\n",
        "commands = np.array([[0], [1]], dtype=np.float32)\n",
        "\n",
        "# The desired Z expectation value at output of quantum circuit.\n",
        "expected_outputs = np.array([[1], [-1]], dtype=np.float32)"
      ]
    },
    {
      "cell_type": "markdown",
      "source": [
        "$Z=\\left(\\begin{array}{cc}1 & 0 \\\\ 0 & -1\\end{array}\\right)$ "
      ],
      "metadata": {
        "id": "TEoBNMVH33_2"
      }
    },
    {
      "cell_type": "markdown",
      "metadata": {
        "id": "kV1LM_hZ6pJD"
      },
      "source": [
        "This is not the entire training dataset for this task. \n",
        "Each datapoint in the dataset also needs an input circuit."
      ]
    },
    {
      "cell_type": "markdown",
      "source": [
        "###### *Input circuit definition*"
      ],
      "metadata": {
        "id": "ZYheZxBgq5-f"
      }
    },
    {
      "cell_type": "markdown",
      "metadata": {
        "id": "bbiVHvSYVW4H"
      },
      "source": [
        "The input-circuit below defines the random miscalibration the model will learn to correct."
      ]
    },
    {
      "cell_type": "code",
      "execution_count": null,
      "metadata": {
        "id": "_VYfzHffWo7n"
      },
      "outputs": [],
      "source": [
        "random_rotations = np.random.uniform(0, 2 * np.pi, 3)\n",
        "noisy_preparation = cirq.Circuit(\n",
        "  cirq.rx(random_rotations[0])(qubit),\n",
        "  cirq.ry(random_rotations[1])(qubit),\n",
        "  cirq.rz(random_rotations[2])(qubit)\n",
        ")\n",
        "datapoint_circuits = tfq.convert_to_tensor([\n",
        "  noisy_preparation\n",
        "] * 2)  # Make two copied of this circuit"
      ]
    },
    {
      "cell_type": "markdown",
      "metadata": {
        "id": "FvOkMyKI6pJI"
      },
      "source": [
        "There are two copies of the circuit, one for each datapoint."
      ]
    },
    {
      "cell_type": "code",
      "execution_count": null,
      "metadata": {
        "id": "6nk2Yr3e6pJJ"
      },
      "outputs": [],
      "source": [
        "datapoint_circuits.shape"
      ]
    },
    {
      "cell_type": "markdown",
      "metadata": {
        "id": "gB--UhZZYgVY"
      },
      "source": [
        "###### *Training*"
      ]
    },
    {
      "cell_type": "markdown",
      "metadata": {
        "id": "jATjqUIv6pJM"
      },
      "source": [
        "With the inputs defined you can test-run the `tfq` model."
      ]
    },
    {
      "cell_type": "code",
      "execution_count": null,
      "metadata": {
        "id": "Lwphqvs96pJO"
      },
      "outputs": [],
      "source": [
        "model([datapoint_circuits, commands]).numpy()"
      ]
    },
    {
      "cell_type": "markdown",
      "metadata": {
        "id": "9gyg5qSL6pJR"
      },
      "source": [
        "Now run a standard training process to adjust these values towards the `expected_outputs`."
      ]
    },
    {
      "cell_type": "code",
      "execution_count": null,
      "metadata": {
        "id": "dtPYqbNi8zeZ"
      },
      "outputs": [],
      "source": [
        "optimizer = tf.keras.optimizers.Adam(learning_rate=0.05)\n",
        "loss = tf.keras.losses.MeanSquaredError()\n",
        "model.compile(optimizer=optimizer, loss=loss)\n",
        "history = model.fit(x=[datapoint_circuits, commands],\n",
        "                    y=expected_outputs,\n",
        "                    epochs=40,\n",
        "                    verbose=1)"
      ]
    },
    {
      "cell_type": "code",
      "execution_count": null,
      "metadata": {
        "id": "azE-qV0OaC1o"
      },
      "outputs": [],
      "source": [
        "sns.set(rc={'figure.figsize':(10, 6), \"lines.linewidth\": 1.0})\n",
        "plt.plot(history.history['loss'])\n",
        "plt.title(\"Learning to Control a Qubit\")\n",
        "plt.xlabel(\"Iterations\")\n",
        "plt.ylabel(\"Error in Control\")\n",
        "plt.show()"
      ]
    },
    {
      "cell_type": "markdown",
      "metadata": {
        "id": "GTd5DGcRmmOK"
      },
      "source": [
        "From this plot you can see that the neural network has learned to overcome the systematic miscalibration."
      ]
    },
    {
      "cell_type": "markdown",
      "source": [
        "###### *Verify outputs*"
      ],
      "metadata": {
        "id": "njcFx31uq_gw"
      }
    },
    {
      "cell_type": "markdown",
      "metadata": {
        "id": "C2RfWismj66S"
      },
      "source": [
        "Now use the trained model, to correct the qubit calibration errors. With Cirq:"
      ]
    },
    {
      "cell_type": "code",
      "execution_count": null,
      "metadata": {
        "id": "RoIlb7r7j5SY"
      },
      "outputs": [],
      "source": [
        "def check_error(command_values, desired_values):\n",
        "  \"\"\"Based on the value in `command_value` see how well you could prepare\n",
        "  the full circuit to have `desired_value` when taking expectation w.r.t. Z.\"\"\"\n",
        "  params_to_prepare_output = controller(command_values).numpy()\n",
        "  full_circuit = noisy_preparation + model_circuit\n",
        "\n",
        "  # Test how well you can prepare a state to get expectation the expectation\n",
        "  # value in `desired_values`\n",
        "  for index in [0, 1]:\n",
        "    state = cirq_simulator.simulate(\n",
        "        full_circuit,\n",
        "        {s:v for (s,v) in zip(control_params, params_to_prepare_output[index])}\n",
        "    ).final_state_vector\n",
        "    expt = cirq.Z(qubit).expectation_from_state_vector(state, {qubit: 0}).real\n",
        "    print(f'For a desired output (expectation) of {desired_values[index]} with'\n",
        "          f' noisy preparation, the controller\\nnetwork found the following '\n",
        "          f'values for theta: {params_to_prepare_output[index]}\\nWhich gives an'\n",
        "          f' actual expectation of: {expt}\\n')\n",
        "\n",
        "\n",
        "check_error(commands, expected_outputs)"
      ]
    },
    {
      "cell_type": "markdown",
      "metadata": {
        "id": "wvW_ZDwmsws6"
      },
      "source": [
        "The value of the loss function during training provides a rough idea of how well the model is learning. The lower the loss, the closer the expectation values in the above cell is to `desired_values`. If you aren't as concerned with the parameter values, you can always check the outputs from above using `tfq`:"
      ]
    },
    {
      "cell_type": "code",
      "execution_count": null,
      "metadata": {
        "id": "aYskLTacs8Ku"
      },
      "outputs": [],
      "source": [
        "model([datapoint_circuits, commands])"
      ]
    },
    {
      "cell_type": "markdown",
      "source": [
        "##### ***Use Case 2: Quantum Convolutional Neural Network***"
      ],
      "metadata": {
        "id": "d-kCl2ZohJUu"
      }
    },
    {
      "cell_type": "markdown",
      "metadata": {
        "id": "g18zQeXOL6IZ"
      },
      "source": [
        "**Assets**\n",
        "\n",
        "* Homepage: [tensorflow.org/quantum](https://www.tensorflow.org/quantum)\n",
        "\n",
        "* See following notebook and many more information [here](https://www.tensorflow.org/quantum/tutorials/qcnn)"
      ]
    },
    {
      "cell_type": "markdown",
      "source": [
        "**Quantum Convolutional Neural Network**\n",
        "\n",
        "This tutorial implements a simplified [Quantum Convolutional Neural Network (QCNN)](https://www.nature.com/articles/s41567-019-0648-8), a proposed quantum analogue to a classical convolutional neural network that is also translationally invariant.\n",
        "\n",
        "This example demonstrates how to detect certain properties of a quantum data source, such as a quantum sensor or a complex simulation from a device. The quantum data source being a [cluster state](https://arxiv.org/pdf/quant-ph/0504097.pdf) that may or may not have an excitation—what the QCNN will learn to detect (The dataset used in the paper was SPT phase classification)."
      ],
      "metadata": {
        "id": "fi-Lx3SphAKI"
      }
    },
    {
      "cell_type": "markdown",
      "source": [
        "###### *Assemble circuits in a TensorFlow graph*"
      ],
      "metadata": {
        "id": "hOQJqyaXh4ZJ"
      }
    },
    {
      "cell_type": "markdown",
      "source": [
        "TensorFlow Quantum (TFQ) provides layer classes designed for in-graph circuit construction. One example is the tfq.layers.AddCircuit layer that inherits from tf.keras.Layer. This layer can either prepend or append to the input batch of circuits, as shown in the following figure."
      ],
      "metadata": {
        "id": "KgFvf8TchvmT"
      }
    },
    {
      "cell_type": "markdown",
      "source": [
        "![layer](https://www.tensorflow.org/quantum/tutorials/images/qcnn_1.png)"
      ],
      "metadata": {
        "id": "zBsPg5yxhrW6"
      }
    },
    {
      "cell_type": "code",
      "source": [
        "qubit = cirq.GridQubit(0, 0)\n",
        "\n",
        "# Define some circuits.\n",
        "circuit1 = cirq.Circuit(cirq.X(qubit))\n",
        "circuit2 = cirq.Circuit(cirq.H(qubit))\n",
        "\n",
        "# Convert to a tensor.\n",
        "input_circuit_tensor = tfq.convert_to_tensor([circuit1, circuit2])\n",
        "\n",
        "# Define a circuit that we want to append\n",
        "y_circuit = cirq.Circuit(cirq.Y(qubit))\n",
        "\n",
        "# Instantiate our layer\n",
        "y_appender = tfq.layers.AddCircuit()\n",
        "\n",
        "# Run our circuit tensor through the layer and save the output.\n",
        "output_circuit_tensor = y_appender(input_circuit_tensor, append=y_circuit)\n",
        "\n",
        "# Examine the input tensor:\n",
        "print('input tensor')\n",
        "print(tfq.from_tensor(input_circuit_tensor))\n",
        "\n",
        "# And examine the output tensor:\n",
        "print('output tensor')\n",
        "print(tfq.from_tensor(output_circuit_tensor))\n"
      ],
      "metadata": {
        "id": "t5IVgJCn09MY"
      },
      "execution_count": null,
      "outputs": []
    },
    {
      "cell_type": "markdown",
      "source": [
        "While it is possible to run the examples below without using tfq.layers.AddCircuit, it's a good opportunity to understand how complex functionality can be embedded into TensorFlow compute graphs.\n",
        "\n"
      ],
      "metadata": {
        "id": "qJzyjGxxiS0X"
      }
    },
    {
      "cell_type": "markdown",
      "source": [
        "###### *Problem overview*"
      ],
      "metadata": {
        "id": "rCh0nZJwigyG"
      }
    },
    {
      "cell_type": "markdown",
      "source": [
        "You will prepare a *cluster state* and train a quantum classifier to detect if it is \"excited\" or not. The cluster state is highly entangled but not necessarily difficult for a classical computer. For clarity, this is a simpler dataset than the one used in the paper.\n",
        "\n",
        "For this classification task you will implement a deep <a href=\"https://arxiv.org/pdf/quant-ph/0610099.pdf\" class=\"external\">MERA</a>-like QCNN architecture since:\n",
        "\n",
        "1.   Like the QCNN, the cluster state on a ring is translationally invariant.\n",
        "2.   The cluster state is highly entangled.\n",
        "\n",
        "This architecture should be effective at reducing entanglement, obtaining the classification by reading out a single qubit.\n",
        "\n",
        "![layer](https://www.tensorflow.org/quantum/tutorials/images/qcnn_2.png)\n",
        "\n",
        "An \"excited\" cluster state is defined as a cluster state that had a `cirq.rx` gate applied to any of its qubits. Qconv and QPool are discussed later in this tutorial."
      ],
      "metadata": {
        "id": "nTqJESXqiecL"
      }
    },
    {
      "cell_type": "markdown",
      "source": [
        "###### *Building blocks for TensorFlow*"
      ],
      "metadata": {
        "id": "ixiy0jguituz"
      }
    },
    {
      "cell_type": "markdown",
      "source": [
        "![layer](https://www.tensorflow.org/quantum/tutorials/images/qcnn_3.png)\n",
        "\n",
        "\n",
        "One way to solve this problem with TensorFlow Quantum is to implement the following:\n",
        "\n",
        "1. The input to the model is a circuit tensor—either an empty circuit or an X gate on a particular qubit indicating an excitation.\n",
        "2. The rest of the model's quantum components are constructed with `tfq.layers.AddCircuit` layers.\n",
        "3. For inference a `tfq.layers.PQC` layer is used. This reads $\\langle \\hat{Z} \\rangle$ and compares it to a label of 1 for an excited state, or -1 for a non-excited state."
      ],
      "metadata": {
        "id": "OOYSoqRNi0vz"
      }
    },
    {
      "cell_type": "markdown",
      "source": [
        "###### *Data*"
      ],
      "metadata": {
        "id": "t3llRVCfi_ON"
      }
    },
    {
      "cell_type": "markdown",
      "source": [
        "Before building your model, you can generate your data. In this case it's going to be excitations to the cluster state (The original paper uses a more complicated dataset). Excitations are represented with `cirq.rx` gates. A large enough rotation is deemed an excitation and is labeled `1` and a rotation that isn't large enough is labeled `-1` and deemed not an excitation."
      ],
      "metadata": {
        "id": "UClhNu2LjBbw"
      }
    },
    {
      "cell_type": "code",
      "source": [
        "def generate_data(qubits):\n",
        "    \"\"\"Generate training and testing data.\"\"\"\n",
        "    n_rounds = 20  # Produces n_rounds * n_qubits datapoints.\n",
        "    excitations = []\n",
        "    labels = []\n",
        "    for n in range(n_rounds):\n",
        "        for bit in qubits:\n",
        "            rng = np.random.uniform(-np.pi, np.pi)\n",
        "            excitations.append(cirq.Circuit(cirq.rx(rng)(bit)))\n",
        "            labels.append(1 if (-np.pi / 2) <= rng <= (np.pi / 2) else -1)\n",
        "\n",
        "    split_ind = int(len(excitations) * 0.7)\n",
        "    train_excitations = excitations[:split_ind]\n",
        "    test_excitations = excitations[split_ind:]\n",
        "\n",
        "    train_labels = labels[:split_ind]\n",
        "    test_labels = labels[split_ind:]\n",
        "\n",
        "    return tfq.convert_to_tensor(train_excitations), np.array(train_labels), \\\n",
        "        tfq.convert_to_tensor(test_excitations), np.array(test_labels)"
      ],
      "metadata": {
        "id": "Ys4I8UTq1fSn"
      },
      "execution_count": null,
      "outputs": []
    },
    {
      "cell_type": "markdown",
      "source": [
        "You can see that just like with regular machine learning you create a training and testing set to use to benchmark the model. You can quickly look at some datapoints with:"
      ],
      "metadata": {
        "id": "rgfy67sKjEaf"
      }
    },
    {
      "cell_type": "code",
      "source": [
        "sample_points, sample_labels, _, __ = generate_data(cirq.GridQubit.rect(1, 4))\n",
        "print('Input:', tfq.from_tensor(sample_points)[0], 'Output:', sample_labels[0])\n",
        "print('Input:', tfq.from_tensor(sample_points)[1], 'Output:', sample_labels[1])"
      ],
      "metadata": {
        "id": "ETSN9N2MjGT5"
      },
      "execution_count": null,
      "outputs": []
    },
    {
      "cell_type": "markdown",
      "source": [
        "###### *Define layers*"
      ],
      "metadata": {
        "id": "Kd--ZcyGjJ4w"
      }
    },
    {
      "cell_type": "markdown",
      "source": [
        "Now define the layers shown in the figure above in TensorFlow."
      ],
      "metadata": {
        "id": "SPyBDqrmjZsA"
      }
    },
    {
      "cell_type": "markdown",
      "source": [
        "\n",
        "**Cluster state**\n",
        "\n",
        "The first step is to define the <a href=\"https://arxiv.org/pdf/quant-ph/0504097.pdf\" class=\"external\">cluster state</a> using <a href=\"https://github.com/quantumlib/Cirq\" class=\"external\">Cirq</a>, a Google-provided framework for programming quantum circuits. Since this is a static part of the model, embed it using the `tfq.layers.AddCircuit` functionality."
      ],
      "metadata": {
        "id": "FxQFWl30jNLD"
      }
    },
    {
      "cell_type": "code",
      "source": [
        "def cluster_state_circuit(bits):\n",
        "    \"\"\"Return a cluster state on the qubits in `bits`.\"\"\"\n",
        "    circuit = cirq.Circuit()\n",
        "    circuit.append(cirq.H.on_each(bits))\n",
        "    for this_bit, next_bit in zip(bits, bits[1:] + [bits[0]]):\n",
        "        circuit.append(cirq.CZ(this_bit, next_bit))\n",
        "    return circuit"
      ],
      "metadata": {
        "id": "n9TTDGZN1pYD"
      },
      "execution_count": null,
      "outputs": []
    },
    {
      "cell_type": "markdown",
      "source": [
        "Display a cluster state circuit for a rectangle of <a href=\"https://cirq.readthedocs.io/en/stable/generated/cirq.GridQubit.html\" class=\"external\"><code>cirq.GridQubit</code></a>s:"
      ],
      "metadata": {
        "id": "p25CNTbGjTiJ"
      }
    },
    {
      "cell_type": "code",
      "source": [
        "SVGCircuit(cluster_state_circuit(cirq.GridQubit.rect(1, 4)))"
      ],
      "metadata": {
        "id": "Jpt1U15S1seB"
      },
      "execution_count": null,
      "outputs": []
    },
    {
      "cell_type": "markdown",
      "source": [
        "**QCNN layers**\n",
        "\n",
        "Define the layers that make up the model using the <a href=\"https://arxiv.org/abs/1810.03787\" class=\"external\">Cong and Lukin QCNN paper</a>. There are a few prerequisites:\n",
        "\n",
        "* The one- and two-qubit parameterized unitary matrices from the <a href=\"https://arxiv.org/abs/quant-ph/0507171\" class=\"external\">Tucci paper</a>.\n",
        "* A general parameterized two-qubit pooling operation."
      ],
      "metadata": {
        "id": "JWuiM9nVjXwu"
      }
    },
    {
      "cell_type": "code",
      "source": [
        "def one_qubit_unitary(bit, symbols):\n",
        "    \"\"\"Make a Cirq circuit enacting a rotation of the bloch sphere about the X,\n",
        "    Y and Z axis, that depends on the values in `symbols`.\n",
        "    \"\"\"\n",
        "    return cirq.Circuit(\n",
        "        cirq.X(bit)**symbols[0],\n",
        "        cirq.Y(bit)**symbols[1],\n",
        "        cirq.Z(bit)**symbols[2])\n",
        "\n",
        "\n",
        "def two_qubit_unitary(bits, symbols):\n",
        "    \"\"\"Make a Cirq circuit that creates an arbitrary two qubit unitary.\"\"\"\n",
        "    circuit = cirq.Circuit()\n",
        "    circuit += one_qubit_unitary(bits[0], symbols[0:3])\n",
        "    circuit += one_qubit_unitary(bits[1], symbols[3:6])\n",
        "    circuit += [cirq.ZZ(*bits)**symbols[6]]\n",
        "    circuit += [cirq.YY(*bits)**symbols[7]]\n",
        "    circuit += [cirq.XX(*bits)**symbols[8]]\n",
        "    circuit += one_qubit_unitary(bits[0], symbols[9:12])\n",
        "    circuit += one_qubit_unitary(bits[1], symbols[12:])\n",
        "    return circuit\n",
        "\n",
        "\n",
        "def two_qubit_pool(source_qubit, sink_qubit, symbols):\n",
        "    \"\"\"Make a Cirq circuit to do a parameterized 'pooling' operation, which\n",
        "    attempts to reduce entanglement down from two qubits to just one.\"\"\"\n",
        "    pool_circuit = cirq.Circuit()\n",
        "    sink_basis_selector = one_qubit_unitary(sink_qubit, symbols[0:3])\n",
        "    source_basis_selector = one_qubit_unitary(source_qubit, symbols[3:6])\n",
        "    pool_circuit.append(sink_basis_selector)\n",
        "    pool_circuit.append(source_basis_selector)\n",
        "    pool_circuit.append(cirq.CNOT(control=source_qubit, target=sink_qubit))\n",
        "    pool_circuit.append(sink_basis_selector**-1)\n",
        "    return pool_circuit"
      ],
      "metadata": {
        "id": "7YDtiQ001wzh"
      },
      "execution_count": null,
      "outputs": []
    },
    {
      "cell_type": "markdown",
      "source": [
        "To see what you created, print out the one-qubit unitary circuit:"
      ],
      "metadata": {
        "id": "iGBihj8EjeLu"
      }
    },
    {
      "cell_type": "code",
      "source": [
        "SVGCircuit(one_qubit_unitary(cirq.GridQubit(0, 0), sympy.symbols('x0:3')))"
      ],
      "metadata": {
        "id": "I34mBsqo1z4U"
      },
      "execution_count": null,
      "outputs": []
    },
    {
      "cell_type": "markdown",
      "source": [
        "And the two-qubit unitary circuit:"
      ],
      "metadata": {
        "id": "6LJJtcWPjfk0"
      }
    },
    {
      "cell_type": "code",
      "source": [
        "SVGCircuit(two_qubit_unitary(cirq.GridQubit.rect(1, 2), sympy.symbols('x0:15')))"
      ],
      "metadata": {
        "id": "qagOD25a11jw"
      },
      "execution_count": null,
      "outputs": []
    },
    {
      "cell_type": "markdown",
      "source": [
        "And the two-qubit pooling circuit:"
      ],
      "metadata": {
        "id": "WUNfZ9aQjj3H"
      }
    },
    {
      "cell_type": "code",
      "source": [
        "SVGCircuit(two_qubit_pool(*cirq.GridQubit.rect(1, 2), sympy.symbols('x0:6')))"
      ],
      "metadata": {
        "id": "xroeAQ0Sjl9g"
      },
      "execution_count": null,
      "outputs": []
    },
    {
      "cell_type": "markdown",
      "source": [
        "**Quantum convolution**\n",
        "\n",
        "As in the <a href=\"https://arxiv.org/abs/1810.03787\" class=\"external\">Cong and Lukin</a> paper, define the 1D quantum convolution as the application of a two-qubit parameterized unitary to every pair of adjacent qubits with a stride of one."
      ],
      "metadata": {
        "id": "zu6Xlz4NjuB0"
      }
    },
    {
      "cell_type": "code",
      "source": [
        "def quantum_conv_circuit(bits, symbols):\n",
        "    \"\"\"Quantum Convolution Layer following the above diagram.\n",
        "    Return a Cirq circuit with the cascade of `two_qubit_unitary` applied\n",
        "    to all pairs of qubits in `bits` as in the diagram above.\n",
        "    \"\"\"\n",
        "    circuit = cirq.Circuit()\n",
        "    for first, second in zip(bits[0::2], bits[1::2]):\n",
        "        circuit += two_qubit_unitary([first, second], symbols)\n",
        "    for first, second in zip(bits[1::2], bits[2::2] + [bits[0]]):\n",
        "        circuit += two_qubit_unitary([first, second], symbols)\n",
        "    return circuit"
      ],
      "metadata": {
        "id": "6TT9cSRF135N"
      },
      "execution_count": null,
      "outputs": []
    },
    {
      "cell_type": "markdown",
      "source": [
        "Display the (very horizontal) circuit:"
      ],
      "metadata": {
        "id": "1RUTW-l0j1rT"
      }
    },
    {
      "cell_type": "code",
      "source": [
        "SVGCircuit(\n",
        "    quantum_conv_circuit(cirq.GridQubit.rect(1, 8), sympy.symbols('x0:15')))"
      ],
      "metadata": {
        "id": "s0PP62gRj3YX"
      },
      "execution_count": null,
      "outputs": []
    },
    {
      "cell_type": "markdown",
      "source": [
        "**Quantum pooling**\n",
        "\n",
        "A quantum pooling layer pools from $N$ qubits to $\\frac{N}{2}$ qubits using the two-qubit pool defined above."
      ],
      "metadata": {
        "id": "3yv_raFJj749"
      }
    },
    {
      "cell_type": "code",
      "source": [
        "def quantum_pool_circuit(source_bits, sink_bits, symbols):\n",
        "    \"\"\"A layer that specifies a quantum pooling operation.\n",
        "    A Quantum pool tries to learn to pool the relevant information from two\n",
        "    qubits onto 1.\n",
        "    \"\"\"\n",
        "    circuit = cirq.Circuit()\n",
        "    for source, sink in zip(source_bits, sink_bits):\n",
        "        circuit += two_qubit_pool(source, sink, symbols)\n",
        "    return circuit"
      ],
      "metadata": {
        "id": "2gMErZ1o17BH"
      },
      "execution_count": null,
      "outputs": []
    },
    {
      "cell_type": "markdown",
      "source": [
        "Examine a pooling component circuit:"
      ],
      "metadata": {
        "id": "5NAm0isAj_Bd"
      }
    },
    {
      "cell_type": "code",
      "source": [
        "test_bits = cirq.GridQubit.rect(1, 8)\n",
        "\n",
        "SVGCircuit(\n",
        "    quantum_pool_circuit(test_bits[:4], test_bits[4:], sympy.symbols('x0:6')))"
      ],
      "metadata": {
        "id": "UwPTB_73kAXe"
      },
      "execution_count": null,
      "outputs": []
    },
    {
      "cell_type": "markdown",
      "source": [
        "###### *Model definition*"
      ],
      "metadata": {
        "id": "hFX91gZgktLO"
      }
    },
    {
      "cell_type": "markdown",
      "source": [
        "Now use the defined layers to construct a purely quantum CNN. Start with eight qubits, pool down to one, then measure $\\langle \\hat{Z} \\rangle$."
      ],
      "metadata": {
        "id": "HyQueN-DkDks"
      }
    },
    {
      "cell_type": "code",
      "source": [
        "def create_model_circuit(qubits):\n",
        "    \"\"\"Create sequence of alternating convolution and pooling operators \n",
        "    which gradually shrink over time.\"\"\"\n",
        "    model_circuit = cirq.Circuit()\n",
        "    symbols = sympy.symbols('qconv0:63')\n",
        "    # Cirq uses sympy.Symbols to map learnable variables. TensorFlow Quantum\n",
        "    # scans incoming circuits and replaces these with TensorFlow variables.\n",
        "    model_circuit += quantum_conv_circuit(qubits, symbols[0:15])\n",
        "    model_circuit += quantum_pool_circuit(qubits[:4], qubits[4:],\n",
        "                                          symbols[15:21])\n",
        "    model_circuit += quantum_conv_circuit(qubits[4:], symbols[21:36])\n",
        "    model_circuit += quantum_pool_circuit(qubits[4:6], qubits[6:],\n",
        "                                          symbols[36:42])\n",
        "    model_circuit += quantum_conv_circuit(qubits[6:], symbols[42:57])\n",
        "    model_circuit += quantum_pool_circuit([qubits[6]], [qubits[7]],\n",
        "                                          symbols[57:63])\n",
        "    return model_circuit\n",
        "\n",
        "\n",
        "# Create our qubits and readout operators in Cirq.\n",
        "cluster_state_bits = cirq.GridQubit.rect(1, 8)\n",
        "readout_operators = cirq.Z(cluster_state_bits[-1])\n",
        "\n",
        "# Build a sequential model enacting the logic in 1.3 of this notebook.\n",
        "# Here you are making the static cluster state prep as a part of the AddCircuit and the\n",
        "# \"quantum datapoints\" are coming in the form of excitation\n",
        "excitation_input = tf.keras.Input(shape=(), dtype=tf.dtypes.string)\n",
        "cluster_state = tfq.layers.AddCircuit()(\n",
        "    excitation_input, prepend=cluster_state_circuit(cluster_state_bits))\n",
        "\n",
        "quantum_model = tfq.layers.PQC(create_model_circuit(cluster_state_bits),\n",
        "                               readout_operators)(cluster_state)\n",
        "\n",
        "qcnn_model = tf.keras.Model(inputs=[excitation_input], outputs=[quantum_model])\n",
        "\n",
        "# Show the keras plot of the model\n",
        "tf.keras.utils.plot_model(qcnn_model,\n",
        "                          show_shapes=True,\n",
        "                          show_layer_names=False,\n",
        "                          dpi=70)"
      ],
      "metadata": {
        "id": "9GSG97Ah19q_"
      },
      "execution_count": null,
      "outputs": []
    },
    {
      "cell_type": "markdown",
      "source": [
        "###### *Model Training*"
      ],
      "metadata": {
        "id": "ExGgbUT5kwDZ"
      }
    },
    {
      "cell_type": "markdown",
      "source": [
        "Train the model over the full batch to simplify this example."
      ],
      "metadata": {
        "id": "g_Imk_sZkIGD"
      }
    },
    {
      "cell_type": "code",
      "source": [
        "# Generate some training data.\n",
        "train_excitations, train_labels, test_excitations, test_labels = generate_data(\n",
        "    cluster_state_bits)\n",
        "\n",
        "\n",
        "# Custom accuracy metric.\n",
        "@tf.function\n",
        "def custom_accuracy(y_true, y_pred):\n",
        "    y_true = tf.squeeze(y_true)\n",
        "    y_pred = tf.map_fn(lambda x: 1.0 if x >= 0 else -1.0, y_pred)\n",
        "    return tf.keras.backend.mean(tf.keras.backend.equal(y_true, y_pred))\n",
        "\n",
        "\n",
        "qcnn_model.compile(optimizer=tf.keras.optimizers.Adam(learning_rate=0.02),\n",
        "                   loss=tf.losses.mse,\n",
        "                   metrics=[custom_accuracy])\n",
        "\n",
        "history = qcnn_model.fit(x=train_excitations,\n",
        "                         y=train_labels,\n",
        "                         batch_size=16,\n",
        "                         epochs=25,\n",
        "                         verbose=1,\n",
        "                         validation_data=(test_excitations, test_labels))"
      ],
      "metadata": {
        "id": "z_zx_v0b2CNO"
      },
      "execution_count": null,
      "outputs": []
    },
    {
      "cell_type": "code",
      "source": [
        "sns.set(rc={'figure.figsize':(10, 6), \"lines.linewidth\": 1.0})\n",
        "plt.plot(history.history['loss'][1:], label='Training')\n",
        "plt.plot(history.history['val_loss'][1:], label='Validation')\n",
        "plt.title('Training a Quantum CNN to Detect Excited Cluster States')\n",
        "plt.xlabel('Epochs')\n",
        "plt.ylabel('Loss')\n",
        "plt.legend()\n",
        "plt.show()"
      ],
      "metadata": {
        "id": "NiqwBIzj2EYz"
      },
      "execution_count": null,
      "outputs": []
    },
    {
      "cell_type": "markdown",
      "source": [
        "For training Hybrid models see [documentation here](https://www.tensorflow.org/quantum/tutorials/qcnn#2_hybrid_models)"
      ],
      "metadata": {
        "id": "xhZnPH14kP7k"
      }
    },
    {
      "cell_type": "markdown",
      "metadata": {
        "id": "clh2iHy-Okie"
      },
      "source": [
        "#### **Part 3: Quantum Emulation with <font color=\"blue\">Quantum Virtual Machine**"
      ]
    },
    {
      "cell_type": "markdown",
      "metadata": {
        "id": "XolOb08MOyIi"
      },
      "source": [
        "[Quantum-Virtual-Machine](https://quantumai.google/quantum-virtual-machine)\n",
        "\n",
        "* https://quantumai.google/cirq/simulate/quantum_virtual_machine\n",
        "\n",
        "* Emulates a Google quantum computer\n",
        "\n",
        "* Provision a QVM in one click with Colab, or learn more about the QVM (how to build your own custom QVM, how to use it to make your circuits perform well on current day quantum hardware)\n",
        "\n",
        "* See documentation [here](https://quantumai.google/cirq/simulate/quantum_virtual_machine) and launch a QVM learning version [in Colab](https://colab.sandbox.google.com/github/quantumlib/Cirq/blob/master/docs/simulate/qvm_basic_example.ipynb)"
      ]
    }
  ],
  "metadata": {
    "colab": {
      "collapsed_sections": [
        "Gi9vCahYLvix",
        "omYrKJNm58dU",
        "_zw1dGwEN3ut",
        "qI0n8rIJQlhl",
        "BvASFtd4QoNr",
        "q0xOUtaNQrpR",
        "dUSFjR9HTbQo",
        "P3YPRe8jUxJb",
        "OvMIcvRyV20W",
        "87jR0g2Hc57n",
        "6nbSKxnqeNOY",
        "zHsuCH4RKwnu",
        "t7gpoYKzL83s",
        "RVZO1oCK5-_F",
        "j6331ZSsQGY3",
        "b08Mmbs8lr81",
        "LJpbriqLqdFG",
        "HkugV3FEqhno",
        "xddXsVooqmPf",
        "kOssBeVBqp0y",
        "ozWQO-CTqtYr",
        "XizLExg56pIp",
        "hpnIBK916pI8",
        "ZYheZxBgq5-f",
        "gB--UhZZYgVY",
        "njcFx31uq_gw",
        "d-kCl2ZohJUu",
        "hOQJqyaXh4ZJ",
        "rCh0nZJwigyG",
        "ixiy0jguituz",
        "t3llRVCfi_ON",
        "Kd--ZcyGjJ4w",
        "hFX91gZgktLO",
        "ExGgbUT5kwDZ",
        "clh2iHy-Okie"
      ],
      "provenance": []
    },
    "kernelspec": {
      "display_name": "Python 3",
      "name": "python3"
    },
    "language_info": {
      "name": "python"
    }
  },
  "nbformat": 4,
  "nbformat_minor": 0
}