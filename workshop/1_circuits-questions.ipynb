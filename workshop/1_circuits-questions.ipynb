{
 "cells": [
  {
   "cell_type": "markdown",
   "metadata": {},
   "source": [
    "# Qiskit exercises"
   ]
  },
  {
   "cell_type": "markdown",
   "metadata": {},
   "source": [
    "The following questions are material for the Qiskit hands-on session given on Nov. 4th 2022 at the International Conference on Quantum Technologies for High-Energy Physics at CERN. In total there are 25 questions. A lot of them have been recycled from previous Qiskit Advocate tests.\n",
    "\n",
    "The primary reference materials for these exercises are [Qiskit Tutorials](https://qiskit.org/documentation/tutorials/circuits/index.html) and [Qiskit Documentation](https://qiskit.org/documentation/). In addtion, [Qiskit Textbook](https://qiskit.org/textbook/preface.html), [Coding with Qiskit](https://www.youtube.com/playlist?list=PLOFEBzvs-Vvp2xg9-POLJhQwtVktlYGbY), [Qiskit Live Circuit Sessions](https://www.youtube.com/playlist?list=PLOFEBzvs-VvrRlVz7wqaqmaMZj_ZK2Afe) and [1 Minute Qiskit](https://www.youtube.com/playlist?list=PLOFEBzvs-VvpOCmJ9BonUhf7NYB4d1p0e) are also good sources of reference.\n",
    "At the beginning of each section you can find more specific reference materials.\n",
    "\n",
    "Let us first check if you are up-to-date with the Qiskit version. These exercises were created with qiskit version 0.37.2."
   ]
  },
  {
   "cell_type": "code",
   "execution_count": null,
   "metadata": {},
   "outputs": [],
   "source": [
    "import qiskit.tools.jupyter\n",
    "print(\"You are now running Qiskit with the following version numbers\")\n",
    "%qiskit_version_table"
   ]
  },
  {
   "cell_type": "markdown",
   "metadata": {},
   "source": [
    "---\n",
    "# 1. CIRCUITS (5 questions)\n",
    "Reference material: \n",
    "1. [Qiskit Tutorials - Circuits](https://qiskit.org/documentation/tutorials/circuits/index.html)\n",
    "1. [Qiskit Documentation - Terra](https://qiskit.org/documentation/apidoc/terra.html)\n",
    "1. [Coding with Qiskit - Ep.3 Hello World](https://www.youtube.com/watch?v=RrUTwq5jKM4)\n",
    "1. [Coding with Qiskit - Ep.4 Building Blocks of Quantum Circuits](https://www.youtube.com/watch?v=tBnWG_95F9c)\n",
    "\n",
    "Let us start with some useful imports"
   ]
  },
  {
   "cell_type": "code",
   "execution_count": null,
   "metadata": {},
   "outputs": [],
   "source": [
    "%matplotlib inline\n",
    "import numpy as np\n",
    "from qiskit import QuantumCircuit, execute, Aer\n",
    "from qiskit.visualization import plot_bloch_multivector, plot_state_qsphere, plot_histogram, \\\n",
    "                                 plot_state_city, plot_state_hinton, plot_state_paulivec\n",
    "import qiskit.quantum_info as qi"
   ]
  },
  {
   "cell_type": "markdown",
   "metadata": {},
   "source": [
    "---\n",
    "# Space for trying out answers\n",
    "You can add any new cells in this notebook to try to figure out the answers for the questions below. "
   ]
  },
  {
   "cell_type": "code",
   "execution_count": null,
   "metadata": {},
   "outputs": [],
   "source": [
    "# example\n",
    "from qiskit import QuantumCircuit\n",
    "qc = QuantumCircuit(1)\n",
    "qc.h(0)\n",
    "qc.draw('mpl')"
   ]
  },
  {
   "cell_type": "code",
   "execution_count": null,
   "metadata": {},
   "outputs": [],
   "source": [
    "# you can insert new cells like this by clicking the \"+\" button on the menu bar"
   ]
  },
  {
   "cell_type": "code",
   "execution_count": null,
   "metadata": {},
   "outputs": [],
   "source": []
  },
  {
   "cell_type": "code",
   "execution_count": null,
   "metadata": {},
   "outputs": [],
   "source": []
  },
  {
   "cell_type": "code",
   "execution_count": null,
   "metadata": {},
   "outputs": [],
   "source": []
  },
  {
   "cell_type": "code",
   "execution_count": null,
   "metadata": {},
   "outputs": [],
   "source": []
  },
  {
   "cell_type": "markdown",
   "metadata": {},
   "source": [
    "## Question 1.1\n",
    "\n",
    "**What is the output of the following circuit given the initial state $| 0 \\rangle$ ?**\n",
    "\n",
    "<img src=\"..\\questions\\circuits_images\\hx0.png\" align = \"left\" width=\"200\"/>"
   ]
  },
  {
   "cell_type": "markdown",
   "metadata": {},
   "source": [
    "**1)** $| 0 \\rangle$\n",
    "\n",
    "**2)** $\\frac{| 0 \\rangle + | 1 \\rangle}{\\sqrt{2}}$\n",
    "\n",
    "**3)** $\\frac{| 0 \\rangle - | 1 \\rangle}{\\sqrt{2}}$\n",
    "\n",
    "**4)** Both 2 & 3 are possible\n",
    "\n",
    "**5)** None of the above"
   ]
  },
  {
   "cell_type": "markdown",
   "metadata": {},
   "source": [
    "---\n",
    "## Question 1.2\n",
    "\n",
    "**What is the result of the measurements in the following circuit assuming error-free quantum computation?**\n",
    "\n",
    "<img src=\"..\\questions\\circuits_images\\bell.png\" align=\"left\" width=\"400\"/>"
   ]
  },
  {
   "cell_type": "markdown",
   "metadata": {},
   "source": [
    "**1)** 50% 0 and 50% 1\n",
    "\n",
    "**2)** 50% 00 and 50% 11\n",
    "\n",
    "**3)** 100% 1\n",
    "\n",
    "**4)** Both 1 & 2 are possible\n",
    "\n",
    "**5)** None of the above"
   ]
  },
  {
   "cell_type": "markdown",
   "metadata": {},
   "source": [
    "---\n",
    "## Question 1.3\n",
    "\n",
    "**Consider the three-qubit quantum circuit below. What are the real and imaginary components of the state vector?**\n",
    "\n",
    "<img src=\"..\\questions\\circuits_images\\q1.png\" align=\"left\" width=\"300\"/>"
   ]
  },
  {
   "cell_type": "markdown",
   "metadata": {},
   "source": [
    "**1)** <img src=\"..\\questions\\circuits_images\\q1_a1.png\" width = \"800\"/>\n",
    "\n",
    "**2)** <img src=\"..\\questions\\circuits_images\\q1_a2.png\" width = \"800\"/>\n",
    "\n",
    "**3)** <img src=\"..\\questions\\circuits_images\\q1_a3.png\" width = \"800\"/>\n",
    "\n",
    "**4)** <img src=\"..\\questions\\circuits_images\\q1_a4.png\" width = \"800\"/>\n",
    "\n",
    "**5)** None of the above\n"
   ]
  },
  {
   "cell_type": "markdown",
   "metadata": {},
   "source": [
    "---\n",
    "## Question 1.4\n",
    "\n",
    "Which of the following state visualization represent the same quantum state as shown in this qsphere?\n",
    "\n",
    "<img src=\"..\\questions\\circuits_images\\qsphere.png\" align=\"left\" width=\"500\"/>"
   ]
  },
  {
   "cell_type": "markdown",
   "metadata": {},
   "source": [
    "**1)** <img src=\"..\\questions\\circuits_images\\statecity.png\"/>\n",
    "\n",
    "**2)** <img src=\"..\\questions\\circuits_images\\hinton.png\"/>\n",
    "\n",
    "**3)** <img src=\"..\\questions\\circuits_images\\paulivec.png\"/>\n",
    "\n",
    "**4)** <img src=\"..\\questions\\circuits_images\\bloch_sphere.png\"/>\n",
    "\n",
    "**5)** None of the above"
   ]
  },
  {
   "cell_type": "markdown",
   "metadata": {},
   "source": [
    "---\n",
    "## Question 1.5\n",
    "\n",
    "Which one of the following gates is different from the rest?\n",
    "\n",
    "**1)** U1Gate(pi)\n",
    "\n",
    "**2)** U2Gate(0, pi)\n",
    "\n",
    "**3)** U3Gate(pi/2, 0, pi)\n",
    "\n",
    "**4)** HGate()\n",
    "\n",
    "**5)** None of the above"
   ]
  },
  {
   "cell_type": "markdown",
   "metadata": {},
   "source": [
    "Please, submit your answers in the following form:\n",
    "https://airtable.com/shrSn19sYn59iaAfx\n",
    "(so that I get an overview which questions might be more challenging for the audience and can explain those in more detail)"
   ]
  }
 ],
 "metadata": {
  "kernelspec": {
   "display_name": "Python 3 (ipykernel)",
   "language": "python",
   "name": "python3"
  },
  "language_info": {
   "codemirror_mode": {
    "name": "ipython",
    "version": 3
   },
   "file_extension": ".py",
   "mimetype": "text/x-python",
   "name": "python",
   "nbconvert_exporter": "python",
   "pygments_lexer": "ipython3",
   "version": "3.10.4"
  }
 },
 "nbformat": 4,
 "nbformat_minor": 4
}
